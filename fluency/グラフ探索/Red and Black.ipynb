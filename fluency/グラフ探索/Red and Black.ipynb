{
  "nbformat": 4,
  "nbformat_minor": 0,
  "metadata": {
    "colab": {
      "name": "情フル0614_提出.ipynb",
      "provenance": []
    },
    "kernelspec": {
      "name": "python3",
      "display_name": "Python 3"
    },
    "language_info": {
      "name": "python"
    }
  },
  "cells": [
    {
      "source": [
        "# Red and black\n",
        "\n",
        "グラフ探索\n",
        "\n",
        "ACM-ICPC 2004 日本国内予選 問題B\n",
        "\n",
        "https://icpc.iisf.or.jp/past-icpc/domestic2004/B.jp/B.html"
      ],
      "cell_type": "markdown",
      "metadata": {}
    },
    {
      "cell_type": "code",
      "metadata": {
        "id": "Admh_BF0IuSq"
      },
      "source": [
        "while True:\n",
        "    w, h = map(int, input().split()) # 標準入力からデータを受け取る．\n",
        "    if w == 0 and h == 0:\n",
        "        break\n",
        "    # リスト内包表記で\n",
        "    c = [list(input()) for _ in range(h)]\n",
        "    \n",
        "    G = {} # 空の辞書だが，これは空の頂点隣接リストというつもりである．\n",
        "    for i in range(h):\n",
        "        for j in range(w): '.' # 入れ子の仕組みを利用（https://utokyo-ipp.github.io/3/3-2.html）\n",
        "            if c[i][j] == '.': # h列内のw行目が黒タイル='.'だった時\n",
        "                G[(i, j)] = [] # それぞれの頂点の，隣接頂点を空リストで初期化する．\n",
        "    for i in range(h):\n",
        "        for j in range(w):\n",
        "            if j < w - 1 and c[i][j] == '.' and c[i][j + 1] == '.':\n",
        "                G[(i, j)].append((i, j + 1)) # 頂点(i, j)の隣接頂点として(i, j + 1)を追加\n",
        "                G[(i, j + 1)].append((i, j)) # と同時に，頂点(i, j + 1)の隣接頂点として(i, j)を追加することを忘れない．\n",
        "            if i < h - 1 and c[i][j] == '.' and c[i + 1][j] == '.':\n",
        "                G[(i, j)].append((i + 1, j))\n",
        "                G[(i + 1, j)].append((i, j))\n",
        "    \n",
        "    print(f'{number_connected_components_dict(G)}') # 完全自作のnumber_connected_components_dictを利用する．"
      ],
      "execution_count": null,
      "outputs": []
    },
    {
      "cell_type": "code",
      "metadata": {
        "id": "bbcymVo163Xf"
      },
      "source": [
        "def graph_scanning_dict(G, s):\n",
        "    visited_nodes = {s}\n",
        "    boundary_nodes = {s}\n",
        "    while len(boundary_nodes) > 0:\n",
        "        v = boundary_nodes.pop()\n",
        "        for w in G[v]:  # graph_scanningと異なるのは，ここだけである．\n",
        "            if w not in visited_nodes:\n",
        "                visited_nodes |= {w}\n",
        "                boundary_nodes |= {w}\n",
        "    return visited_nodes\n",
        "\n",
        "while True:\n",
        "    w, h = map(int, input().split())  # 標準入力からデータを受け取る．\n",
        "    if w == 0 and h == 0:\n",
        "        break\n",
        "    c = [list(input()) for _ in range(h)]\n",
        "    \n",
        "    # ＠の座標初期化\n",
        "    ax, ay = 0, 0\n",
        "    G = {}  # 空の辞書だが，これは空の頂点隣接リストというつもりである．\n",
        "    for i in range(h):\n",
        "        for j in range(w):  # 入れ子の仕組みを利用（https://utokyo-ipp.github.io/3/3-2.html）\n",
        "            # @の座標を見つける\n",
        "            if c[i][j] == '@':\n",
        "                ay, ax = i, j\n",
        "                c[i][j] = '.'\n",
        "            if c[i][j] == '.':  # h列内のw行目が黒タイル='.'だった時\n",
        "                G[(i, j)] = []  # それぞれの頂点の，隣接頂点を空リストで初期化する．\n",
        "    for i in range(h):\n",
        "        for j in range(w):\n",
        "            if j < w - 1 and c[i][j] == '.' and c[i][j + 1] == '.':\n",
        "                G[(i, j)].append((i, j + 1))  # 頂点(i, j)の隣接頂点として(i, j + 1)を追加\n",
        "                G[(i, j + 1)].append((i, j))  # と同時に，頂点(i, j + 1)の隣接頂点として(i, j)を追加することを忘れない．\n",
        "            if i < h - 1 and c[i][j] == '.' and c[i + 1][j] == '.':\n",
        "                G[(i, j)].append((i + 1, j))\n",
        "                G[(i + 1, j)].append((i, j))\n",
        "    # 連結している座標のリストを得る\n",
        "    connected_nodes = graph_scanning_dict(G, (ay, ax))\n",
        "    # 連結している座標の個数 = 移動可能な場所 = 黒いタイルの場所\n",
        "    print(len(connected_nodes))"
      ],
      "execution_count": null,
      "outputs": []
    },
    {
      "cell_type": "markdown",
      "metadata": {
        "id": "Fl1JW31FbDxJ"
      },
      "source": [
        "@が含まれているタイルを見つけたらそこと繋がっているタイルの数を数える\n"
      ]
    }
  ]
}