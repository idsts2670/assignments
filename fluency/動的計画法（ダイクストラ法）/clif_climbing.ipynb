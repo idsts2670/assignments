{
 "metadata": {
  "language_info": {
   "codemirror_mode": {
    "name": "ipython",
    "version": 3
   },
   "file_extension": ".py",
   "mimetype": "text/x-python",
   "name": "python",
   "nbconvert_exporter": "python",
   "pygments_lexer": "ipython3",
   "version": "3.9.5"
  },
  "orig_nbformat": 4,
  "kernelspec": {
   "name": "python3",
   "display_name": "Python 3.9.5 64-bit"
  },
  "interpreter": {
   "hash": "aee8b7b246df8f9039afb4144a1f6fd8d2ca17a180786b69acc140d282b71a49"
  }
 },
 "nbformat": 4,
 "nbformat_minor": 2,
 "cells": [
  {
   "source": [
    "# ACM-ICPC 2007 日本国内予選 問題D: 崖登り\n",
    "\n",
    "問題はこちらに記載されている(https://icpc.iisf.or.jp/past-icpc/domestic2007/D_ja.html)\n",
    "\n",
    "非常にざっくりいうと，「一歩ごとの移動時間が与えられるので，崖を登り切るまでの時間を答えよ」という問題."
   ],
   "cell_type": "markdown",
   "metadata": {}
  },
  {
   "cell_type": "code",
   "execution_count": 12,
   "metadata": {},
   "outputs": [],
   "source": [
    "# inputデータをプログラムで読み込める形式に変え、出力ファイルを作成する\n",
    "def answer(input_file_name, output_file_name, solution_method):\n",
    "    with open(input_file_name) as input_file, open(output_file_name, 'w') as output_file:\n",
    "        while True:\n",
    "            w, h = map(int, input_file.readline().split())\n",
    "            if w == 0 and h == 0:\n",
    "                break\n",
    "            s = []\n",
    "            for i in range(h):\n",
    "                s.append(input_file.readline().split())\n",
    "            output_file.write(f'{solution_method(w, h, s)}\\n') \n",
    "    return"
   ]
  },
  {
   "cell_type": "code",
   "execution_count": 37,
   "metadata": {},
   "outputs": [],
   "source": [
    "def shortest_path_length(G, source, target):\n",
    "    # Gのノードの数だけ、距離infの辞書を作成\n",
    "    # {1:inf,2:inf,,,,}\n",
    "    distance = {v: float('inf') for v in G.keys()}\n",
    "\n",
    "\n",
    "    # source(スタート)への最短経路を０にする\n",
    "    distance[source] = 0\n",
    "    # 例えば２番目のノードがsourceなら\n",
    "    # {1:inf,2:0,3:inf,,,,}てきな\n",
    "\n",
    "\n",
    "    # ノードの一覧リスト\n",
    "    # remain=[1,2,3,4,,,]\n",
    "    remain = [v for v in G.keys()]\n",
    "\n",
    "    while len(remain) > 0:\n",
    "\n",
    "        min_dis = float('inf')\n",
    "        # ノードを一つ一つ見ていく\n",
    "        # remainのなかでその時のdistanceが一番小さいノードを探索する\n",
    "        for v in remain:\n",
    "\n",
    "            # もしv(ノード)への最短距離がmin_disより小さければ、min_disに距離を入れて,\n",
    "            # min_dis_vertexにノードを入れる\n",
    "            # 初めはs以外全部infだからsがmin_dis_vertexに入る\n",
    "            if distance[v] < min_dis:\n",
    "                min_dis = distance[v]\n",
    "                min_dis_vertex = v\n",
    "\n",
    "        # もし探索するノードが見つからなければ終了\n",
    "        if min_dis == float('inf'): \n",
    "            break\n",
    "\n",
    "        # これから探索するノードだからremainから削除\n",
    "        remain.remove(min_dis_vertex)\n",
    "\n",
    "\n",
    "        # 現在わかっているそのノードへの最短距離と、今回の探索で得られた距離を比較して、小さい方をそのノードへの最短経路としてdistanceに保存\n",
    "        # min_dis_vertexからつながる全ての点に対して\n",
    "        for w in G[min_dis_vertex]:\n",
    "            # distance[w] = min(distance[w], distance[min_dis_vertex] + G[(min_dis_vertex, w)]['weight'])\n",
    "            distance[w] = min(distance[w], distance[min_dis_vertex] + G[min_dis_vertex][w])\n",
    "\n",
    "\n",
    "    # もしターゲットにいくルートがなかったら-1を返す\n",
    "    #（distance[target]がinfということはどのノードも探索してないということ）        \n",
    "    if distance[target] == float('inf'):\n",
    "        return -1\n",
    "    # そうでなければ、target、までの最短距離を返す\n",
    "    return distance[target]"
   ]
  },
  {
   "cell_type": "code",
   "execution_count": 47,
   "metadata": {},
   "outputs": [],
   "source": [
    "# 各ノードからいける他のノード・移動にかかる時間の情報を与える\n",
    "def solution(w, h, s):\n",
    "    G = {'source': {}, 'target': {}}\n",
    "    for i in range(h):\n",
    "        for j in range(w):\n",
    "            if s[i][j] != 'X':\n",
    "                # 最初はリスト内辞書の形式に空値を入れる\n",
    "                G[f'L{i},{j}'] = {}\n",
    "                G[f'R{i},{j}'] = {}\n",
    "\n",
    "    for i in range(h):\n",
    "        for j in range(w):\n",
    "            if s[i][j] == 'X':\n",
    "                continue\n",
    "            elif s[i][j] == 'S':\n",
    "                G['source'][f'L{i},{j}'] = 0\n",
    "                G['source'][f'R{i},{j}'] = 0\n",
    "            elif s[i][j] == 'T':\n",
    "                G[f'L{i},{j}']['target'] = 0\n",
    "                G[f'R{i},{j}']['target'] = 0\n",
    "            for ii in range(i - 2, i + 3):\n",
    "                if ii < 0 or ii >= h:\n",
    "                    continue\n",
    "                for jj in range(j + 1, j + 4):\n",
    "                    if jj < 0 or jj >= w or abs(ii - i) + abs(jj - j) > 3 or s[ii][jj] == 'X':\n",
    "                        continue\n",
    "                    if s[ii][jj] == 'S' or s[ii][jj] == 'T':\n",
    "                        weight = 0\n",
    "                    else:\n",
    "                        weight = int(s[ii][jj])\n",
    "                    G[f'L{i},{j}'][f'R{ii},{jj}'] = weight\n",
    "                for jj in range(j - 3, j):\n",
    "                    if jj < 0 or jj >= w or abs(ii - i) + abs(jj - j) > 3 or s[ii][jj] == 'X':\n",
    "                        continue\n",
    "                    if s[ii][jj] == 'S' or s[ii][jj] == 'T':\n",
    "                        weight = 0\n",
    "                    else:\n",
    "                        weight = int(s[ii][jj])\n",
    "                    # リスト内辞書の形式に値として時間を入れる\n",
    "                    G[f'R{i},{j}'][f'L{ii},{jj}'] = weight\n",
    "\n",
    "    return shortest_path_length(G, 'source', 'target')"
   ]
  },
  {
   "cell_type": "code",
   "execution_count": 48,
   "metadata": {},
   "outputs": [],
   "source": [
    "# answer関数内でsolutionを実行し、その中でshortest_path_length\n",
    "input_file_names = ['cliff_climbing_input.txt']\n",
    "file_dir = '/Users/satoshiido/Documents/情報フルエンシ/'\n",
    "for input_file_name in input_file_names:\n",
    "    answer(f'{file_dir}{input_file_name}', f'{file_dir}{input_file_name}.out', solution)"
   ]
  },
  {
   "cell_type": "code",
   "execution_count": null,
   "metadata": {},
   "outputs": [],
   "source": [
    "# 余分だが、コンペの標準入出力に対応する形にする\n",
    "while True:\n",
    "    w, h = map(int, input().split())\n",
    "    if w == 0 and h == 0:\n",
    "        break\n",
    "    s = []\n",
    "    for i in range(h):\n",
    "        s.append(input().split())\n",
    "    print(solution(w, h, s))"
   ]
  }
 ]
}