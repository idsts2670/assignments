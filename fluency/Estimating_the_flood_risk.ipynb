{
 "metadata": {
  "language_info": {
   "codemirror_mode": {
    "name": "ipython",
    "version": 3
   },
   "file_extension": ".py",
   "mimetype": "text/x-python",
   "name": "python",
   "nbconvert_exporter": "python",
   "pygments_lexer": "ipython3",
   "version": "3.9.5"
  },
  "orig_nbformat": 4,
  "kernelspec": {
   "name": "python3",
   "display_name": "Python 3.9.5 64-bit"
  },
  "interpreter": {
   "hash": "aee8b7b246df8f9039afb4144a1f6fd8d2ca17a180786b69acc140d282b71a49"
  }
 },
 "nbformat": 4,
 "nbformat_minor": 2,
 "cells": [
  {
   "source": [
    "# ACM-ICPC 2019 アジア地区予選横浜 問題B: Estimating the flood risk\n",
    "\n",
    "公式の過去問はここに公開されている：https://icpc.iisf.or.jp/2019-yokohama/wp-content/uploads/sites/6/2019/11/all.pdf\n",
    "\n",
    "概要をざっくり説明すると，\n",
    "\n",
    "- 正方形の土地が，東西方向に$W$個，南北方向に$D$個ならんでいて，\n",
    "- そのうちのいくつかの土地の高さはわかっていて，\n",
    "- どの土地も東西南北の隣との高さの差は最大で1であるとき，\n",
    "- セルの高さの合計の，可能な最小値を求めよ，\n",
    "\n",
    "という問題である．"
   ],
   "cell_type": "markdown",
   "metadata": {}
  },
  {
   "source": [
    "## 線形最適化ソルバーを用いた解法\n",
    "\n",
    "ここでは，まず，与えられた問題を線形最適化問題として定式化し，線形最適化ソルバーで解いてみる．\n",
    "\n",
    "セルの東西方向の個数を$W$，セルの南北方向の個数を$D$とする．\n",
    "高さがわかっているセルの集合を$L$とし，そのそれぞれの座標$x, y$と高さ$Z$がわかっているとする．\n",
    "\n",
    "このとき，（高さがわかっている土地も含めて）それぞれの土地の高さを変数$z_{x,y}$とすると，与えられた問題は以下の線形最適化問題として表せる．\n",
    "\n",
    "\\begin{align}\n",
    "\\text{min.} \\quad & \\sum_{x=1}^W \\sum_{y=1}^D z_{x,y} \\\\\n",
    "\\text{s. t.} \\quad & z_{x,y} - z_{x + 1, y} \\le 1 & (x = 1, \\dots, W - 1, \\ y = 1, \\dots, D), \\\\\n",
    "& z_{x,y} - z_{x + 1, y} \\ge -1 & (x = 1, \\dots, W - 1, \\ y = 1, \\dots, D), \\\\\n",
    "& z_{x,y} - z_{x, y + 1} \\le 1 & (x = 1, \\dots, W, \\ y = 1, \\dots, D - 1), \\\\\n",
    "& z_{x,y} - z_{x, y + 1} \\ge -1 & (x = 1, \\dots, W, \\ y = 1, \\dots, D - 1), \\\\\n",
    "& z_{x,y} =  Z_{x, y} & (x = 1, \\dots, W, \\ y = 1, \\dots, D - 1), \\\\\n",
    "& z_{x, y} \\in \\mathbb{Q} & (x = 1, \\dots, W, \\ y = 1, \\dots, D).\n",
    "\\end{align}\n",
    "\n",
    "ここで，$\\mathbb{Q}$は有理数の集合である．\n",
    "この定式化を制約だけから素直に解釈すると，土地の高さとして整数でない値が出てしまうかもしれないと思える．\n",
    "しかし，隣接する土地の高さは「差が1まで許される」ことと目的関数を合わせて考えると，最適解には整数しか使われないことになる．\n",
    "\n",
    "念の為に，\n",
    "\\begin{align}\n",
    "& | x - y | \\le 1 \\\\\n",
    "& \\Longleftrightarrow -1 \\le x - y, \\ x - y \\le 1\n",
    "\\end{align}\n",
    "であることに注意されたい．\n",
    "\n",
    "この定式化をもとに，PuLPを使って解を出力する関数を以下に定義する．"
   ],
   "cell_type": "markdown",
   "metadata": {}
  },
  {
   "cell_type": "code",
   "execution_count": 2,
   "metadata": {},
   "outputs": [],
   "source": [
    "import pulp\n",
    "\n",
    "def solution(w, d, land):\n",
    "    lp = pulp.LpProblem() # 線形最適化問題のインスタンスの生成，名前は省略，デフォルトで最小化\n",
    "    var = {}\n",
    "    for x in range(1, w + 1):\n",
    "        for y in range(1, d + 1):\n",
    "            var[(x, y)] = pulp.LpVariable(f'z{x},{y}') # すべての土地に対応する変数を用意\n",
    "    lp += pulp.LpAffineExpression([(var[(x, y)], 1) for x in range(1, w + 1) for y in range(1, d + 1)])\n",
    "    # このLpAffineExpressionは引数に[(x1, a1), (x2, a2), ..., (xn, an)]というリストを与えると\n",
    "    # a1 x1 + a2 x2 + ... + an xnという1次式を作ってくれる\n",
    "    for x in range(1, w + 1):\n",
    "        for y in range(1, d + 1):\n",
    "            if x < w:\n",
    "                lp += var[(x, y)] - var[(x + 1, y)] <= 1\n",
    "                lp += var[(x, y)] - var[(x + 1, y)] >= -1\n",
    "            if y < d:\n",
    "                lp += var[(x, y)] - var[(x, y + 1)] <= 1\n",
    "                lp += var[(x, y)] - var[(x, y + 1)] >= -1\n",
    "    for x, y, z in land:\n",
    "        lp += var[(x, y)] == z\n",
    "    status = lp.solve()\n",
    "    if status == -1:\n",
    "        return 'No'\n",
    "    return round(sum([var[xy].value() for xy in var.keys()]))"
   ]
  },
  {
   "cell_type": "code",
   "execution_count": 1,
   "metadata": {},
   "outputs": [
    {
     "output_type": "stream",
     "name": "stdout",
     "text": [
      "Collecting pulp\n",
      "  Downloading PuLP-2.4-py3-none-any.whl (40.6 MB)\n",
      "\u001b[K     |████████████████████████████████| 40.6 MB 14.0 MB/s \n",
      "\u001b[?25hCollecting amply>=0.1.2\n",
      "  Downloading amply-0.1.4-py3-none-any.whl (16 kB)\n",
      "Collecting docutils>=0.3\n",
      "  Downloading docutils-0.17.1-py2.py3-none-any.whl (575 kB)\n",
      "\u001b[K     |████████████████████████████████| 575 kB 8.5 MB/s \n",
      "\u001b[?25hRequirement already satisfied: pyparsing in /Users/satoshiido/Library/Python/3.9/lib/python/site-packages (from amply>=0.1.2->pulp) (2.4.7)\n",
      "Installing collected packages: docutils, amply, pulp\n",
      "Successfully installed amply-0.1.4 docutils-0.17.1 pulp-2.4\n",
      "Note: you may need to restart the kernel to use updated packages.\n"
     ]
    }
   ],
   "source": [
    "# pip install pulp"
   ]
  },
  {
   "cell_type": "code",
   "execution_count": 3,
   "metadata": {},
   "outputs": [
    {
     "output_type": "stream",
     "name": "stdout",
     "text": [
      "Welcome to the CBC MILP Solver \nVersion: 2.9.0 \nBuild Date: Feb 12 2015 \n\ncommand line - /Library/Frameworks/Python.framework/Versions/3.9/lib/python3.9/site-packages/pulp/apis/../solverdir/cbc/osx/64/cbc /var/folders/j0/tkdlg4n54w74ht8tklyh79640000gn/T/c45ff9623e80473da7bcbfbc110df1cf-pulp.mps branch printingOptions all solution /var/folders/j0/tkdlg4n54w74ht8tklyh79640000gn/T/c45ff9623e80473da7bcbfbc110df1cf-pulp.sol (default strategy 1)\nAt line 2 NAME          MODEL\nAt line 3 ROWS\nAt line 69 COLUMNS\nAt line 216 RHS\nAt line 281 BOUNDS\nAt line 302 ENDATA\nProblem MODEL has 64 rows, 20 columns and 126 elements\nCoin0008I MODEL read with 0 errors\nPresolve 48 (-16) rows, 17 (-3) columns and 96 (-30) elements\nPerturbing problem by 0.001 % of 2 - largest nonzero change 0.0009576079 (% 0.09576079) - largest zero change 0\n0  Obj 128.44153 Primal inf 0.39999606 (4)\n15  Obj 130.04214\nOptimal - objective value 130\nAfter Postsolve, objective 130, infeasibilities - dual 0 (0), primal 0 (0)\nOptimal objective 130 - 15 iterations time 0.002, Presolve 0.00\nOption for printingOptions changed from normal to all\nTotal time (CPU seconds):       0.01   (Wallclock seconds):       0.01\n\n"
     ]
    },
    {
     "output_type": "execute_result",
     "data": {
      "text/plain": [
       "130"
      ]
     },
     "metadata": {},
     "execution_count": 3
    }
   ],
   "source": [
    "solution(5, 4, [[1, 1, 10], [5, 4, 3]])"
   ]
  },
  {
   "cell_type": "code",
   "execution_count": 4,
   "metadata": {},
   "outputs": [],
   "source": [
    "# 入力データのファイルを読み込んで，出力をファイルに書き出す関数を定義する\n",
    "def answer(input_file_name, output_file_name):\n",
    "    with open(input_file_name) as input_file, open(output_file_name, 'w') as output_file:\n",
    "        w, d, n = map(int, input_file.readline().split())\n",
    "        land = []\n",
    "        for i in range(n):\n",
    "            land.append(list(map(int, input_file.readline().split())))\n",
    "        output_file.write(f'{solution(w, d, land)}\\n')\n",
    "    return"
   ]
  },
  {
   "source": [
    "## 線形最適化ソルバーを使わない解法\n",
    "\n",
    "ちなみにプログラミングコンテストでは，線形最適化ソルバーの利用は想定されていない．\n",
    "\n",
    "想定解は貪欲解法だと思われる"
   ],
   "cell_type": "markdown",
   "metadata": {}
  },
  {
   "cell_type": "code",
   "execution_count": null,
   "metadata": {},
   "outputs": [],
   "source": []
  }
 ]
}