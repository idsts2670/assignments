{
 "cells": [
  {
   "cell_type": "code",
   "execution_count": 1,
   "source": [
    "\n",
    "def room_connected_component(G, s):\n",
    "    # 一度確認した部屋（頂点）を再度確認しないように（計算量を減らすために）記録する\n",
    "    visited = {s}\n",
    "    # 訪れた部屋が他の部屋とつながっていた場合、この変数に追加して再度確認\n",
    "    remain = {s}\n",
    "\n",
    "    # remainが存在している限りループする（=remainが空になったら(=つながりの最後の地点,部屋に到着したら)）\n",
    "    while remain:\n",
    "        z = remain.pop()\n",
    "\n",
    "        # Gの中の部屋の位置情報を1個ずつ取り出す（複数あった場合でも1個ずつみていく）\n",
    "        for yx in G[z]:\n",
    "            \n",
    "            # remainから取り出した隣接部屋が訪れたかどうか確認し、訪れていなかったらvisisted, remainに追加する\n",
    "            if yx not in visited:\n",
    "                visited |= {yx}\n",
    "                remain |= {yx}\n",
    "\n",
    "    return visited"
   ],
   "outputs": [],
   "metadata": {}
  },
  {
   "cell_type": "code",
   "execution_count": 2,
   "source": [
    "def solution(n, altitude):\n",
    "    G = {(h, w): [] for h in range(n) for w in range(n)}\n",
    "    \n",
    "    # 各部屋がどこの部屋と繋がっているのかの情報を保存するfor文\n",
    "    # h, wは部屋の座標\n",
    "    for h in range(n):\n",
    "        for w in range(n):\n",
    "\n",
    "            # 一旦neighborという箱に存在しない座標を据え置く\n",
    "            neighbor = (-1, -1)\n",
    "            num = altitude[h][w] + 1\n",
    "\n",
    "            # 北\n",
    "            if h > 0 and altitude[h - 1][w] == num:\n",
    "                neighbor = (h - 1, w)\n",
    "\n",
    "            # 西\n",
    "            elif w > 0 and altitude[h][w - 1] == num:\n",
    "                neighbor = (h, w - 1)\n",
    "            # 東\n",
    "            elif w < n - 1 and altitude[h][w + 1] == num:\n",
    "                neighbor = (h, w + 1)\n",
    "\n",
    "            # 南\n",
    "            elif h < n - 1 and altitude[h + 1][w] == num:\n",
    "                neighbor = (h + 1, w)\n",
    "\n",
    "            if neighbor != (-1, -1):\n",
    "                G[(h, w)].append(neighbor)\n",
    "\n",
    "    \n",
    "    # 部屋番号\n",
    "    r = 10000\n",
    "    # 繋がりの数\n",
    "    cnt = 0\n",
    "\n",
    "    for y in range(n):\n",
    "        for x in range(n):\n",
    "\n",
    "            if not G[(y, x)]:\n",
    "                connection = {()}\n",
    "            else:\n",
    "                connection = room_connected_component(G, (y, x))\n",
    "\n",
    "            # 部屋の連結数は一緒で、これまでの結果より部屋番号自体が小さい場合、小さいほうで更新\n",
    "            if cnt == len(connection) and altitude[y][x] < r:\n",
    "                r = altitude[y][x]\n",
    "            \n",
    "            # これまでの部屋の連結数より、今回のほうが大きかったら、大きい方で更新\n",
    "            elif cnt < len(connection):\n",
    "                r = altitude[y][x]\n",
    "                cnt = len(connection)\n",
    "            \n",
    "\n",
    "    return r, cnt\n"
   ],
   "outputs": [],
   "metadata": {}
  },
  {
   "cell_type": "code",
   "execution_count": null,
   "source": [
    "# 入力処理\n",
    "for i in range(int(input())):\n",
    "    n = \"\"\n",
    "    while n == \"\":\n",
    "        n = input()\n",
    "    n = int(n)\n",
    "    altitude = [list(map(int, input().split())) for _ in range(n)]\n",
    "    r, d = solution(n, altitude)\n",
    "    print(f'Case #{i + 1}: {r} {d}')"
   ],
   "outputs": [],
   "metadata": {}
  },
  {
   "cell_type": "code",
   "execution_count": null,
   "source": [],
   "outputs": [],
   "metadata": {}
  }
 ],
 "metadata": {
  "orig_nbformat": 4,
  "language_info": {
   "name": "python",
   "version": "3.9.5",
   "mimetype": "text/x-python",
   "codemirror_mode": {
    "name": "ipython",
    "version": 3
   },
   "pygments_lexer": "ipython3",
   "nbconvert_exporter": "python",
   "file_extension": ".py"
  },
  "kernelspec": {
   "name": "python3",
   "display_name": "Python 3.9.5 64-bit"
  },
  "interpreter": {
   "hash": "aee8b7b246df8f9039afb4144a1f6fd8d2ca17a180786b69acc140d282b71a49"
  }
 },
 "nbformat": 4,
 "nbformat_minor": 2
}