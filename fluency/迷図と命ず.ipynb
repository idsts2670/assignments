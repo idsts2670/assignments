{
  "nbformat": 4,
  "nbformat_minor": 0,
  "metadata": {
    "colab": {
      "name": "情フル0621_迷図と命ず.ipynb",
      "provenance": [],
      "collapsed_sections": []
    },
    "kernelspec": {
      "name": "python3",
      "display_name": "Python 3"
    }
  },
  "cells": [
    {
      "cell_type": "markdown",
      "metadata": {
        "id": "cgIy5OEejWTL"
      },
      "source": [
        "# ACM-ICPC 2010 日本国内予選 問題B: 迷図と命ず"
      ]
    },
    {
      "cell_type": "markdown",
      "metadata": {
        "id": "2eKcgQ1OQMe_"
      },
      "source": [
        "## 問題の説明"
      ]
    },
    {
      "cell_type": "markdown",
      "metadata": {
        "id": "O8lQZkyUmJ4C"
      },
      "source": [
        "公式の過去問は[こちら](https://icpc.iisf.or.jp/past-icpc/domestic2010/#section_B)で公開されているので，問題の説明は省略する．\n",
        "非常にざっくり説明すると，\n",
        "\n",
        "- 迷図（迷路）が与えられるので，通り抜けるための最短の歩数を答えよ，\n",
        "- ただし，通り抜けられない迷図の場合には0と答えよ，\n",
        "\n",
        "という問題である．\n",
        "\n",
        "この問題は，典型的な**グラフ上の最短路問題**である．\n",
        "グラフ上の最短路問題は**幅優先探索**を用いることで時間複雑度$\\mathrm{O}(n + m)$で解けることが知られている．\n",
        "ただしここで$n$はグラフの頂点数，$m$はグラフのエッジ数である．\n",
        "\n",
        "以下に，ファイル入出力用の解答例のコードを示す．"
      ]
    },
    {
      "cell_type": "markdown",
      "metadata": {
        "id": "BusIvhIbRTRa"
      },
      "source": [
        "## NetworkXをフルに使う解法"
      ]
    },
    {
      "cell_type": "markdown",
      "metadata": {
        "id": "zeCgHyKuRY-Q"
      },
      "source": [
        "グラフ上の最短路問題は典型的な問題なので，NetworkXの関数を使えば解ける．\n",
        "まずは，問題文の最初の迷図をグラフで表してみる．"
      ]
    },
    {
      "cell_type": "code",
      "metadata": {
        "id": "ia5KXJFTR4DJ"
      },
      "source": [
        "import networkx as nx\n",
        "\n",
        "G = nx.Graph() # この命令で空の（頂点もエッジもない）グラフをGとする．\n",
        "G.add_node((0, 0), position=(0, 2)) # 一番左上の頂点名を(0, 0)とし，その座標を(0, 2)とする．\n",
        "G.add_node((0, 1), position=(1, 2))\n",
        "G.add_node((1, 0), position=(0, 1))\n",
        "G.add_node((1, 1), position=(1, 1))\n",
        "G.add_node((2, 0), position=(0, 0))\n",
        "G.add_node((2, 1), position=(1, 0)) # 一番右下の頂点名を(2, 1)とし，その座標を(1, 2)とする．\n",
        "G.add_edge((0, 0), (1, 0)) # 頂点(0, 0)と頂点(1, 0)は隣接している．\n",
        "G.add_edge((1, 0), (1, 1)) # 頂点(1, 0)と頂点(1, 1)は隣接している．\n",
        "G.add_edge((1, 1), (2, 1)) # 頂点(1, 1)と頂点(2, 1)は隣接している．"
      ],
      "execution_count": null,
      "outputs": []
    },
    {
      "cell_type": "code",
      "metadata": {
        "colab": {
          "base_uri": "https://localhost:8080/",
          "height": 248
        },
        "id": "_vqLBqFhTjx_",
        "outputId": "e7274f96-94ad-496d-8a6c-17554a66690a"
      },
      "source": [
        "# 実はGoogle colaboratoryの場合，matplotlibをimportしなくても描画できる．\n",
        "%matplotlib inline\n",
        "nx.draw_networkx(G, pos=nx.get_node_attributes(G, 'position')) \n",
        "# NetworkXの関数get_node_attributesを使うと，グラフGの頂点名をキー，キーワードの値を辞書の値とする辞書を得られる．"
      ],
      "execution_count": null,
      "outputs": [
        {
          "output_type": "display_data",
          "data": {
            "image/png": "[encoded data removed]",
            "text/plain": [
              "<Figure size 432x288 with 1 Axes>"
            ]
          },
          "metadata": {
            "tags": []
          }
        }
      ]
    },
    {
      "cell_type": "markdown",
      "metadata": {
        "id": "DCDwyncEVQ4m"
      },
      "source": [
        "描画すると，この通りである．\n",
        "見るからに，頂点(0,0)から頂点(2,1)へのグラフ上の距離は3であり，迷図の問題設定からは，4歩で迷図を抜けられることがわかる．\n",
        "\n",
        "NetworkXには最短路長を返す関数[shortest_path_length](https://networkx.org/documentation/stable/reference/algorithms/generated/networkx.algorithms.shortest_paths.generic.shortest_path_length.html#networkx.algorithms.shortest_paths.generic.shortest_path_length)があるので，それを使えばグラフ上の最短路長が得られる．\n",
        "```py\n",
        "nx.shortest_path_length(G, source, target)\n",
        "```\n",
        "でグラフGにおけるsourceからtargetへの最短路長が得られる．\n",
        "では，早速使ってみよう．"
      ]
    },
    {
      "cell_type": "code",
      "metadata": {
        "colab": {
          "base_uri": "https://localhost:8080/"
        },
        "id": "_23FNr6xWaVj",
        "outputId": "5a59611d-6f8e-4334-8e1a-cd268162b27b"
      },
      "source": [
        "nx.shortest_path_length(G, (0, 0), (2, 1)) + 1 # 迷図の問題設定上，グラフ上の最短路長+1を答える．"
      ],
      "execution_count": null,
      "outputs": [
        {
          "output_type": "execute_result",
          "data": {
            "text/plain": [
              "4"
            ]
          },
          "metadata": {
            "tags": []
          },
          "execution_count": 5
        }
      ]
    },
    {
      "cell_type": "markdown",
      "metadata": {
        "id": "TTp7TygWTjSm"
      },
      "source": [
        "確かに，正答が得られた．\n",
        "（グラフが簡素すぎるので，これで正答と言われても困惑するかも知れないが．）\n",
        "\n",
        "なお，NetworkXの関数shortest_path_lengthは，グラフのエッジに長さが設定されている場合でも最短路長を返してくれる，より一般的な関数である．\n",
        "そしてその一般的な機能を実現するため，内部のアルゴリズムとして幅優先探索ではなくダイクストラ法（Dijkstra's algorithm）を採用している．\n",
        "ダイクストラ法の時間複雑度は一般に$\\mathrm{O}(n + m)$よりも大きいが，現在扱っている問題程度のグラフの大きさならば幅優先探索と大差ないので気にしないことにする．\n",
        "\n",
        "あと，今回扱っている問題の設定では，迷図は抜けられるとは限らない．\n",
        "グラフの2頂点間にパスがあるかを判定する関数[has_path](https://networkx.org/documentation/stable/reference/algorithms/generated/networkx.algorithms.shortest_paths.generic.has_path.html#networkx.algorithms.shortest_paths.generic.has_path)も使うことにする．\n",
        "\n",
        "以上を踏まえて以下に，NetworkXをフルに使ってこの問題を解く，ファイル入出力版の関数answerを定義する．"
      ]
    },
    {
      "cell_type": "code",
      "metadata": {
        "id": "7Tqft94SjVfk"
      },
      "source": [
        "def answer(input_file_name, output_file_name):\n",
        "    input_file = open(input_file_name)\n",
        "    output_file = open(output_file_name, 'w')\n",
        "    while True:\n",
        "        w, h = map(int, input_file.readline().split()) # wとｈを迷図の幅と高さとする．\n",
        "        if w == 0 and h == 0: # 幅も高さも0ならば，\n",
        "            break # 繰り返しを終える．\n",
        "        G = nx.Graph() # 空のグラフをGとする．\n",
        "        for i in range(h): # 迷図のそれぞれの縦位置iと，\n",
        "            for j in range(w): # 横位置jに関して，\n",
        "                G.add_node((i, j)) # そのマス目に対応する頂点(i, j)をグラフに加える．\n",
        "        for i in range(h): # 迷図のそれぞれの縦位置iに関して，\n",
        "            line = list(map(int, input_file.readline().split())) # 横移動を阻む壁のデータを1行読み込み，\n",
        "            for j in range(w - 1): # そのそれぞれの横位置jに関して，\n",
        "                if line[j] == 0: # 右側に壁がないならば，右側との移動が可能なので，\n",
        "                    G.add_edge((i, j), (i, j + 1)) # 頂点(i, j)と頂点(i, j + 1)をエッジで結ぶ．\n",
        "            if i >= h - 1: continue # 以降は縦方向の移動に関するエッジの処理だが，縦位置が（０始まりなので）h-1だとそれよりも下がないので，以降の処理を省略する．\n",
        "            line = list(map(int, input_file.readline().split())) # 縦移動を阻む壁のデータを１行読み込み，\n",
        "            for j in range(w): # そのそれぞれの横位置jに関して，\n",
        "                if line[j] == 0: # 下側に壁がないならば，下側との移動が可能なので，\n",
        "                    G.add_edge((i, j), (i + 1, j)) # 頂点(i, j)と頂点(i + 1, j)をエッジで結ぶ．\n",
        "        source = (0, 0) # 迷図の始点は常に(0, 0)\n",
        "        target = (h - 1, w - 1) # 迷図の終点は常に(h - 1, w - 1)\n",
        "        if nx.has_path(G, source, target) == False: # まず，始点から終点へのパスがないならば，\n",
        "            output_file.write('0\\n') # ファイルに0と出力する．\n",
        "        else: # そうではなく，始点から終点へのパスがあるならば，\n",
        "            output_file.write(f'{nx.shortest_path_length(G, source, target) + 1}\\n') # 始点から終点への，グラフ上の距離（最短路長）+1をファイルに出力する．\n",
        "    input_file.close()\n",
        "    output_file.close()\n",
        "    return"
      ],
      "execution_count": null,
      "outputs": []
    },
    {
      "cell_type": "markdown",
      "metadata": {
        "id": "U5xlF4gOrodC"
      },
      "source": [
        "では，このプログラムを実行してみよう．\n",
        "入力データのファイルは公式サイトに置かれているので，それをダウンロードすればよい．\n",
        "ACM-ICPC 2010 日本国内予選の入力データはまとめて[ここ](https://icpc.iisf.or.jp/past-icpc/domestic2010/qualify_judge.zip)にあるので，それをダウンロードする．"
      ]
    },
    {
      "cell_type": "markdown",
      "metadata": {
        "id": "VVwSAyo-TJHw"
      },
      "source": [
        "Google colaboratoryにおいてファイルを読み込んだりファイルに書き込んだりするためには，Googleドライブをマウントするのが最も簡単であろう．\n",
        "以降では，その方法でプログラムを実行してみる．\n",
        "\n",
        "まず，以下の命令でGoogleドライブをマウントする．\n",
        "以下の命令を実行すると，Googleアカウントの選択やコード入力を求められるが，その説明はここでは省略する．"
      ]
    },
    {
      "cell_type": "code",
      "metadata": {
        "id": "fdWU42AkkOo7",
        "colab": {
          "base_uri": "https://localhost:8080/"
        },
        "outputId": "af9a4e8a-8e4f-4d44-b900-ed36e198c6e6"
      },
      "source": [
        "from google.colab import drive\n",
        "drive.mount('/content/drive')"
      ],
      "execution_count": null,
      "outputs": [
        {
          "output_type": "stream",
          "text": [
            "Mounted at /content/drive\n"
          ],
          "name": "stdout"
        }
      ]
    },
    {
      "cell_type": "markdown",
      "metadata": {
        "id": "e9fhuy7NT58l"
      },
      "source": [
        "適切にGoogleアカウントを選択し正しいコードを入力すると，選択されたGoogleアカウントのGoogleドライブがマウントされる．\n",
        "マウントしたら，ファイル入出力プログラムの実行をできるし，他にもUNIXコマンドの実行もできる．\n",
        "\n",
        "例えば，私は自分のGoogleドライブのディレクトリ\n",
        "```\n",
        "python/acm_icpc/domestic2010/qualify_judge\n",
        "```\n",
        "に公式からダウンロードして展開（解凍）したファイルを置いた．\n",
        "\n",
        "Google colaboratoryのコードセルでは，\n",
        "```\n",
        "!UNIXコマンド\n",
        "```\n",
        "でUNIXコマンドを実行できるので，UNIXのlsコマンドでファイルを確認してみる．"
      ]
    },
    {
      "cell_type": "code",
      "metadata": {
        "colab": {
          "base_uri": "https://localhost:8080/"
        },
        "id": "07BUQPyOU2W8",
        "outputId": "4c9eed7f-d665-446f-88d3-1e52f465ff23"
      },
      "source": [
        "!ls /content/drive/'My Drive'/python/acm_icpc/domestic2010/qualify_judge/B*"
      ],
      "execution_count": null,
      "outputs": [
        {
          "output_type": "stream",
          "text": [
            "'/content/drive/My Drive/python/acm_icpc/domestic2010/qualify_judge/B1'\n",
            "'/content/drive/My Drive/python/acm_icpc/domestic2010/qualify_judge/B1.ans'\n",
            "'/content/drive/My Drive/python/acm_icpc/domestic2010/qualify_judge/B2'\n",
            "'/content/drive/My Drive/python/acm_icpc/domestic2010/qualify_judge/B2.ans'\n",
            "'/content/drive/My Drive/python/acm_icpc/domestic2010/qualify_judge/B3'\n",
            "'/content/drive/My Drive/python/acm_icpc/domestic2010/qualify_judge/B3.ans'\n",
            "'/content/drive/My Drive/python/acm_icpc/domestic2010/qualify_judge/B4'\n",
            "'/content/drive/My Drive/python/acm_icpc/domestic2010/qualify_judge/B4.ans'\n"
          ],
          "name": "stdout"
        }
      ]
    },
    {
      "cell_type": "markdown",
      "metadata": {
        "id": "bkSq32OXVc0K"
      },
      "source": [
        "B1, B1.ans, B2, B2.ans, B3, B3.ans, B4, B4.ans\n",
        "の4つのファイルを確認できた．\n",
        "B1, B2, B3, B4が，プログラミングコンテストで使われた入力データのファイルであり，B1.ans, B2.ans, B3.ans, B4.ansがそれぞれ入力データに対応する正解の出力データのファイルである．\n",
        "\n",
        "B1, B2, B3, B4をそれぞれ先程定義した関数answerに入力し，そこで得られた出力データのファイルをB1.out, B2.out, B3.out, B4.outとして同じディレクトリに保存するコードを以下に記し実行する．"
      ]
    },
    {
      "cell_type": "code",
      "metadata": {
        "id": "18lOI4ITkPgV"
      },
      "source": [
        "input_file_names = ['B1', 'B2', 'B3', 'B4']\n",
        "file_dir = '/content/drive/My Drive/python/acm_icpc/domestic2010/qualify_judge/'\n",
        "for input_file_name in input_file_names:\n",
        "    answer(f'{file_dir}{input_file_name}', f'{file_dir}{input_file_name}.out')"
      ],
      "execution_count": null,
      "outputs": []
    },
    {
      "cell_type": "markdown",
      "metadata": {
        "id": "hARhxE77Y7CW"
      },
      "source": [
        "何も表示されないが，きっと実行されたに違いない．\n",
        "\n",
        "UNIXのdiffコマンドを用いて，B1.out, B2.out, B3.out, B4.outのそれぞれを，B1.ans, B2.ans, B3.ans, B4.ansと比較してみる．"
      ]
    },
    {
      "cell_type": "code",
      "metadata": {
        "id": "qbQYWZkJkcgo"
      },
      "source": [
        "!diff /content/drive/'My Drive'/python/acm_icpc/domestic2010/qualify_judge/B1.out /content/drive/'My Drive'/python/acm_icpc/domestic2010/qualify_judge/B1.ans\n",
        "!diff /content/drive/'My Drive'/python/acm_icpc/domestic2010/qualify_judge/B2.out /content/drive/'My Drive'/python/acm_icpc/domestic2010/qualify_judge/B2.ans\n",
        "!diff /content/drive/'My Drive'/python/acm_icpc/domestic2010/qualify_judge/B3.out /content/drive/'My Drive'/python/acm_icpc/domestic2010/qualify_judge/B3.ans\n",
        "!diff /content/drive/'My Drive'/python/acm_icpc/domestic2010/qualify_judge/B4.out /content/drive/'My Drive'/python/acm_icpc/domestic2010/qualify_judge/B4.ans"
      ],
      "execution_count": null,
      "outputs": []
    },
    {
      "cell_type": "markdown",
      "metadata": {
        "id": "nreoqtzcergS"
      },
      "source": [
        "差分は何も表示されないので，関数answerの出力ファイルと正解のファイルは完全に一致している．"
      ]
    },
    {
      "cell_type": "markdown",
      "metadata": {
        "id": "7yc87PEoewYC"
      },
      "source": [
        "## NetworkXをデータ構造としてのみ利用する解法"
      ]
    },
    {
      "cell_type": "markdown",
      "metadata": {
        "id": "JcW0sLlse68f"
      },
      "source": [
        "NetworkXの関数を利用するのは便利だが，アルゴリズムをカスタマイズしたい，あるいはアルゴリズムを自作したい場合もある．\n",
        "ここでは，そのような場合に備えて，データ構造としてのみNetworkXを用いて，グラフ上の最短路長を計算する関数を自作する．\n",
        "\n",
        "グラフ上の最短路長は先述の通り幅優先探索で求まる．\n",
        "\n",
        "以下に，幅優先探索でグラフ上の最短路長を求める関数をshortest_path_length_with_nxとして定義する．"
      ]
    },
    {
      "cell_type": "code",
      "metadata": {
        "id": "SjP8yV9Zf0nU"
      },
      "source": [
        "def shortest_path_length_with_nx(G, source, target):\n",
        "    '''グラフ上の距離（最短路長）を返す関数\n",
        "    入力は，グラフG，始点source，終点target，\n",
        "    出力は，始点から終点へのグラフ上の距離，ただし始点と終点が同じ連結成分に含まれていない場合には-1'''\n",
        "    C = set([source]) # 始点から到達可能であることがわかっている頂点集合をCとする．最初は始点のみが始点から到達可能であるとわかっている．\n",
        "    queue = [source] # 幅優先探索なのでqueueに「探索境界上の頂点集合」を覚える．\n",
        "    dist = {source: 0} # 始点からの距離をdistとする．最初は始点の，始点からの距離が0であることだけがわかっている．\n",
        "    while len(queue) > 0: # queueに覚えられている「探索境界上の頂点」がある限り，以下を繰り返す．\n",
        "        v = queue.pop(0) # 探索境界上の頂点を1つ抜き出す．\n",
        "        for w in G.neighbors(v): # その頂点の隣接頂点wに関して，\n",
        "            if w not in C: # wがすでに探索済みでないならば，\n",
        "                C |= set([w]) # 始点から到達可能であることを覚えて，\n",
        "                queue.append(w) # 「探索境界上の頂点」として覚えて，\n",
        "                dist[w] = dist[v] + 1 # 「頂点vへの距離+1」をその頂点wの距離とする．\n",
        "    if target in C: # 終点が探索済みならば，始点と同じ連結成分に含まれているということなので，\n",
        "        return dist[target] # 始点からの距離を返す．\n",
        "    return -1 # そうでないならば，始点と終点が同じ連結成分に含まれていないということなので-1を返す．"
      ],
      "execution_count": null,
      "outputs": []
    },
    {
      "cell_type": "markdown",
      "metadata": {
        "id": "04H2bHqMiijf"
      },
      "source": [
        "この自作の関数shortest_path_length_without_nxを用いて問題を解くファイル入出力版の関数answer2を以下に定義する．\n",
        "上述の関数answerと同じコメントは省く．\n",
        "\n",
        "なお，ここで，ファイルを開く際に[with構文](https://docs.python.org/ja/3/reference/compound_stmts.html#with)を使ってみる．"
      ]
    },
    {
      "cell_type": "code",
      "metadata": {
        "id": "MqF3rYi_ixQd"
      },
      "source": [
        "def answer2(input_file_name, output_file_name):\n",
        "    with open(input_file_name) as input_file, open(output_file_name, 'w') as output_file:\n",
        "        while True:\n",
        "            w, h = map(int, input_file.readline().split())\n",
        "            if w == 0 and h == 0:\n",
        "                break\n",
        "            G = nx.Graph()\n",
        "            for i in range(h):\n",
        "                for j in range(w):\n",
        "                    G.add_node((i, j))\n",
        "            for i in range(h):\n",
        "                line = list(map(int, input_file.readline().split()))\n",
        "                for j in range(w - 1):\n",
        "                    if line[j] == 0:\n",
        "                        G.add_edge((i, j), (i, j + 1))\n",
        "                if i >= h - 1: continue\n",
        "                line = list(map(int, input_file.readline().split()))\n",
        "                for j in range(w):\n",
        "                    if line[j] == 0:\n",
        "                        G.add_edge((i, j), (i + 1, j))\n",
        "            source = (0, 0)\n",
        "            target = (h - 1, w - 1)\n",
        "            # 始点から終点への，グラフ上の距離（最短路長）+1をファイルに出力する．\n",
        "            output_file.write(f'{shortest_path_length_with_nx(G, source, target) + 1}\\n') # answerとはここの部分が異なる\n",
        "            # 始点から終点へ到達できない場合には-1を返すように定義したので，偶然にも（笑），上の1行だけで良くなった．\n",
        "    return"
      ],
      "execution_count": null,
      "outputs": []
    },
    {
      "cell_type": "markdown",
      "metadata": {
        "id": "mpjx9gRpkcb7"
      },
      "source": [
        "このコード例で何となくわかっていただけたと思うが，\n",
        "\n",
        "```py\n",
        "f = open(file_name, mode)\n",
        "処理\n",
        "f.close()\n",
        "```\n",
        "は\n",
        "```py\n",
        "with open(file_name, mode) as f:\n",
        "    処理\n",
        "```\n",
        "と書いても同じように処理される．\n",
        "`f.close()`はどこへ行った？\n",
        "と思われるかも知れないが，withを使うと，それは自動的に実行される．\n",
        "with構文はファイルを開く場合以外にも使える一般的なものであるが，この講義ではそれ以外の用途では使いそうにないので，その説明は省略する．\n",
        "\n",
        "また，withでファイルを開いて，そのファイルを読み書きできる範囲はインデントで示すので，複数のファイルを開く場合には，\n",
        "```py\n",
        "with open(file_name1, mode1) as f1:\n",
        "    with open(file_name2, mode2) as f2:\n",
        "        処理\n",
        "```\n",
        "という具合に書く．\n",
        "しかし，この書き方だと複数のファイルを開く場合にはインデントが深くなってしまいがちなので，\n",
        "```py\n",
        "with open(file_name1, mode1) as f1, open(file_name2, mode2) as f2:\n",
        "    処理\n",
        "```\n",
        "でも同じ役割を果たせるようになっている．\n",
        "\n",
        "念の為に実行して確認してみる．"
      ]
    },
    {
      "cell_type": "code",
      "metadata": {
        "id": "WMY_2he1l77d"
      },
      "source": [
        "input_file_names = ['B1', 'B2', 'B3', 'B4']\n",
        "file_dir = '/content/drive/My Drive/python/acm_icpc/domestic2010/qualify_judge/'\n",
        "for input_file_name in input_file_names:\n",
        "    answer2(f'{file_dir}{input_file_name}', f'{file_dir}{input_file_name}.out')"
      ],
      "execution_count": null,
      "outputs": []
    },
    {
      "cell_type": "code",
      "metadata": {
        "id": "-ovgzljrmHpz"
      },
      "source": [
        "!diff /content/drive/'My Drive'/python/acm_icpc/domestic2010/qualify_judge/B1.out /content/drive/'My Drive'/python/acm_icpc/domestic2010/qualify_judge/B1.ans\n",
        "!diff /content/drive/'My Drive'/python/acm_icpc/domestic2010/qualify_judge/B2.out /content/drive/'My Drive'/python/acm_icpc/domestic2010/qualify_judge/B2.ans\n",
        "!diff /content/drive/'My Drive'/python/acm_icpc/domestic2010/qualify_judge/B3.out /content/drive/'My Drive'/python/acm_icpc/domestic2010/qualify_judge/B3.ans\n",
        "!diff /content/drive/'My Drive'/python/acm_icpc/domestic2010/qualify_judge/B4.out /content/drive/'My Drive'/python/acm_icpc/domestic2010/qualify_judge/B4.ans"
      ],
      "execution_count": null,
      "outputs": []
    },
    {
      "cell_type": "markdown",
      "metadata": {
        "id": "XxE0WNkQmKEM"
      },
      "source": [
        "今度も，差分は何も表示されないので，関数answerの出力ファイルと正解のファイルは完全に一致している．"
      ]
    },
    {
      "cell_type": "markdown",
      "metadata": {
        "id": "pp8Xlx4BmQOE"
      },
      "source": [
        "## NetworkXを全く使わない解法"
      ]
    },
    {
      "cell_type": "markdown",
      "metadata": {
        "id": "x7nlOBZrmWuO"
      },
      "source": [
        "ここまで見てわかるように，幅優先探索で必要とされるグラフ操作は「指定された頂点vの隣接頂点を参照すること」だけである．\n",
        "\n",
        "これならば，グラフを頂点隣接リストで保存すれば十分である．\n",
        "\n",
        "以下に，グラフを頂点隣接リストで保存する前提で，関数shortest_path_length_without_nxとanswer3を定義する．"
      ]
    },
    {
      "cell_type": "code",
      "metadata": {
        "id": "AWduyHE2nEBu"
      },
      "source": [
        "def shortest_path_length_without_nx(G, source, target):\n",
        "    '''グラフ上の距離（最短路長）を返す関数\n",
        "    入力は，グラフG，始点source，終点target，\n",
        "    出力は，始点から終点へのグラフ上の距離，ただし始点と終点が同じ連結成分に含まれていない場合には-1'''\n",
        "    # 以降，前出の関数shortest_path_length_with_nxと同じコメントは省略する．\n",
        "    C = set([source])\n",
        "    queue = [source]\n",
        "    dist = {source: 0}\n",
        "    while len(queue) > 0:\n",
        "        v = queue.pop(0)\n",
        "        for w in G[v]: # 違うのはここだけ！ここでGは頂点隣接リスト（の辞書による実現）であると仮定している．\n",
        "            if w not in C:\n",
        "                C |= set([w])\n",
        "                queue.append(w)\n",
        "                dist[w] = dist[v] + 1\n",
        "    if target in C:\n",
        "        return dist[target]\n",
        "    return -1\n",
        "\n",
        "\n",
        "def answer3(input_file_name, output_file_name):\n",
        "    with open(input_file_name) as input_file, open(output_file_name, 'w') as output_file:\n",
        "        while True:\n",
        "            w, h = map(int, input_file.readline().split())\n",
        "            if w == 0 and h == 0:\n",
        "                break\n",
        "            G = {} # 頂点隣接リスト（の辞書による実現）をGとする．\n",
        "            for i in range(h):\n",
        "                for j in range(w):\n",
        "                    G[(i, j)] = [] # まずは，それぞれの頂点(i, j)の隣接頂点のリストを空にする．\n",
        "            for i in range(h):\n",
        "                line = list(map(int, input_file.readline().split()))\n",
        "                for j in range(w - 1):\n",
        "                    if line[j] == 0: # 頂点(i, j)の右の壁がないならば，\n",
        "                        G[(i, j)].append((i, j + 1)) # 頂点(i, j)の隣接頂点のリストに頂点(i, j + 1)を加え，\n",
        "                        G[(i, j + 1)].append((i, j)) # 逆に，頂点(i, j + 1)の隣接頂点のリストに頂点(i, j)を加える．\n",
        "                        # このようにエッジの両端点のリストを処理する必要がないという意味で，NetworkXは便利である．\n",
        "                if i >= h - 1: continue\n",
        "                line = list(map(int, input_file.readline().split()))\n",
        "                for j in range(w):\n",
        "                    if line[j] == 0:\n",
        "                        G[(i, j)].append((i + 1, j)) # 頂点(i, j)の隣接頂点のリストに頂点(i + 1, j)を加え，\n",
        "                        G[(i + 1, j)].append((i, j)) # 逆に，頂点(i + 1, j)の隣接頂点のリストに頂点(i, j)を加える．\n",
        "            source = (0, 0)\n",
        "            target = (h - 1, w - 1)\n",
        "            output_file.write(f'{shortest_path_length_without_nx(G, source, target) + 1}\\n') # NetworkXを使わない関数に変更した．\n",
        "    return"
      ],
      "execution_count": null,
      "outputs": []
    },
    {
      "cell_type": "markdown",
      "metadata": {
        "id": "1mi-rGpLpOW4"
      },
      "source": [
        "では，このNetworkXを使わない関数たちに関しても，その正しさを確認するために実行してみる．"
      ]
    },
    {
      "cell_type": "code",
      "metadata": {
        "id": "m9Mj9q3hpU4q"
      },
      "source": [
        "input_file_names = ['B1', 'B2', 'B3', 'B4']\n",
        "file_dir = '/content/drive/My Drive/python/acm_icpc/domestic2010/qualify_judge/'\n",
        "for input_file_name in input_file_names:\n",
        "    answer3(f'{file_dir}{input_file_name}', f'{file_dir}{input_file_name}.out')"
      ],
      "execution_count": null,
      "outputs": []
    },
    {
      "cell_type": "code",
      "metadata": {
        "id": "s6M42d6_pZiD"
      },
      "source": [
        "!diff /content/drive/'My Drive'/python/acm_icpc/domestic2010/qualify_judge/B1.out /content/drive/'My Drive'/python/acm_icpc/domestic2010/qualify_judge/B1.ans\n",
        "!diff /content/drive/'My Drive'/python/acm_icpc/domestic2010/qualify_judge/B2.out /content/drive/'My Drive'/python/acm_icpc/domestic2010/qualify_judge/B2.ans\n",
        "!diff /content/drive/'My Drive'/python/acm_icpc/domestic2010/qualify_judge/B3.out /content/drive/'My Drive'/python/acm_icpc/domestic2010/qualify_judge/B3.ans\n",
        "!diff /content/drive/'My Drive'/python/acm_icpc/domestic2010/qualify_judge/B4.out /content/drive/'My Drive'/python/acm_icpc/domestic2010/qualify_judge/B4.ans"
      ],
      "execution_count": null,
      "outputs": []
    },
    {
      "cell_type": "markdown",
      "metadata": {
        "id": "-zsr8y0aYjJZ"
      },
      "source": [
        "差分は何も表示されないので，関数answerの出力ファイルと正解のファイルは完全に一致している．\n",
        "\n",
        "最後に，上記の関数shortest_path_length_without_nxを用いて標準入出力に対応するコードを以下に示す．"
      ]
    },
    {
      "cell_type": "code",
      "metadata": {
        "id": "l2HJ8YlIXbk9"
      },
      "source": [
        "while True: # 先程のanswer3の繰り返し部分だけを抜き出して，標準入出力に合わせただけである．\n",
        "    w, h = map(int, input().split()) # 標準入力に変更する．\n",
        "    if w == 0 and h == 0:\n",
        "        break\n",
        "    G = {}\n",
        "    for i in range(h):\n",
        "        for j in range(w):\n",
        "            G[(i, j)] = []\n",
        "    for i in range(h):\n",
        "        line = list(map(int, input().split())) # 標準入力に変更する．\n",
        "        for j in range(w - 1):\n",
        "            if line[j] == 0:\n",
        "                G[(i, j)].append((i, j + 1))\n",
        "                G[(i, j + 1)].append((i, j))\n",
        "        if i >= h - 1: continue\n",
        "        line = list(map(int, input().split())) # 標準入力に変更する．\n",
        "        for j in range(w):\n",
        "            if line[j] == 0:\n",
        "                G[(i, j)].append((i + 1, j))\n",
        "                G[(i + 1, j)].append((i, j))\n",
        "    source = (0, 0)\n",
        "    target = (h - 1, w - 1)\n",
        "    print(shortest_path_length_without_nx(G, source, target) + 1) # 標準出力に変更する．"
      ],
      "execution_count": null,
      "outputs": []
    },
    {
      "cell_type": "markdown",
      "metadata": {
        "id": "qiE3T1AOWRxG"
      },
      "source": [
        "このコードが正しいか否かは，オンラインジャッジなどで確かめられる．\n",
        "[AOJ](https://judge.u-aizu.ac.jp/onlinejudge/)ならば，Vol. 11の1166番である．"
      ]
    }
  ]
}