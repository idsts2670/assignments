{
  "nbformat": 4,
  "nbformat_minor": 0,
  "metadata": {
    "colab": {
      "name": "情フル0607_acm_icpc_domestic_2009_b.ipynb",
      "provenance": []
    },
    "kernelspec": {
      "name": "python3",
      "display_name": "Python 3"
    },
    "language_info": {
      "name": "python"
    }
  },
  "cells": [
    {
      "cell_type": "markdown",
      "metadata": {
        "id": "B1hWYuT6HcTP"
      },
      "source": [
        "# ACM-ICPC 2009 日本国内予選 問題B: 島はいくつある？"
      ]
    },
    {
      "cell_type": "markdown",
      "metadata": {
        "id": "l6DKGzZpH7t2"
      },
      "source": [
        "## 問題の説明\n",
        "\n",
        "[問題文](https://icpc.iisf.or.jp/past-icpc/domestic2009/all_ja.htm)が[過去問公式サイト](https://icpc.iisf.or.jp/past/)にて公開されているので，問題の説明は省略する．\n",
        "\n",
        "非常にざっくりと説明すると，陸と海を表す地図が与えられるので，つながった陸地，すなわち島の数を答える問題である．\n",
        "\n",
        "これはグラフの連結成分数を求める問題そのままである．\n",
        "地図はメッシュ状なのでグラフ探索を使うのは若干大げさにも思えるが，計算時間的なデメリットはないので，グラフ探索をベースに解くことにする．"
      ]
    },
    {
      "cell_type": "markdown",
      "metadata": {
        "id": "OPHwkVKTJcmX"
      },
      "source": [
        "## NetworkXをフルに使った解法\n",
        "\n",
        "[NetworkX](https://networkx.org/)はPythonの（標準でない）モジュールの1つであり，ネットワーク解析用のモジュールである．\n",
        "細かい説明は省くが，信頼のおけるモジュールである．\n",
        "\n",
        "まずは，そのNetworkXをフルに使って，問題を解いてみる．\n",
        "幸いにもGoogle colaboratoryには予めNetworkXがインストールされているので，まずimportする．"
      ]
    },
    {
      "cell_type": "code",
      "metadata": {
        "id": "hsI5HwgHHbEN"
      },
      "source": [
        "import networkx as nx # 愛称nxでimportするのが一般的のようである．"
      ],
      "execution_count": null,
      "outputs": []
    },
    {
      "cell_type": "markdown",
      "metadata": {
        "id": "z6vt_K-dKvCx"
      },
      "source": [
        "問題のsample inputの4つ目，すなわち問題文の図B-1をグラフとして入力してみる．\n",
        "地図をグラフとして表すにあたって，陸に対応する正方形領域，すなわち$c_{i,j} = 1$であるような正方形を頂点とする．\n",
        "また，地図上で上から$i$番目，左から$j$番目の正方形に対応する頂点の名前を$(i, j)$とする．\n",
        "以下に入力例を示す．"
      ]
    },
    {
      "cell_type": "code",
      "metadata": {
        "id": "OMZc2kPJKkvE"
      },
      "source": [
        "G = nx.Graph() # これで変数Gは頂点もエッジもない，空のグラフとなる．\n",
        "G.add_node((1,1)) # グラフに頂点を追加するにはメソッドadd_nodeを使う．\n",
        "# add_nodeの第1引数は頂点名であり，頂点名には文字列やタプルなどimmutableなオブジェクトを使える．\n",
        "G.add_node((1,3))\n",
        "G.add_node((2,1))\n",
        "G.add_node((3,1))\n",
        "G.add_node((3,3))\n",
        "G.add_node((3,5))\n",
        "G.add_node((4,1))\n",
        "G.add_node((4,4))"
      ],
      "execution_count": null,
      "outputs": []
    },
    {
      "cell_type": "markdown",
      "metadata": {
        "id": "3IYJgOGITDHO"
      },
      "source": [
        "これでグラフGには，(1,1), (1,3), (3,1), (3,3), (3,5), (4,1), (4,4)の8つの頂点が加えられた．\n",
        "念の為に確認する．"
      ]
    },
    {
      "cell_type": "code",
      "metadata": {
        "colab": {
          "base_uri": "https://localhost:8080/"
        },
        "id": "3a0PabbcTGnt",
        "outputId": "aedf67c8-e7ec-4a1e-aaf2-4a547b8cc5fc"
      },
      "source": [
        "G.nodes() # メソッドnodes()でグラフの頂点集合が得られる．"
      ],
      "execution_count": null,
      "outputs": [
        {
          "output_type": "execute_result",
          "data": {
            "text/plain": [
              "NodeView(((1, 1), (1, 3), (2, 1), (3, 1), (3, 3), (3, 5), (4, 1), (4, 4)))"
            ]
          },
          "metadata": {
            "tags": []
          },
          "execution_count": 9
        }
      ]
    },
    {
      "cell_type": "markdown",
      "metadata": {
        "id": "uKcbaYu3L3R2"
      },
      "source": [
        "これだけだと，陸に対応する正方形がどれかという情報を入れたに過ぎない．\n",
        "次に，どの陸正方形がつながっているか，すなわち隣接しているかという情報をグラフのエッジとして入力する．"
      ]
    },
    {
      "cell_type": "code",
      "metadata": {
        "id": "JI3mlaFFL2Re"
      },
      "source": [
        "G.add_edge((1,1), (2,1)) # グラフにエッジを追加するにはメソッドadd_edgeを使う．\n",
        "# add_edgeの第1引数と第2引数はエッジの端点である．\n",
        "# なお，エッジの端点として指定された頂点がまだそのグラフにない場合には，自動的に新たな頂点として加えられる．\n",
        "G.add_edge((2,1), (3,1))\n",
        "G.add_edge((3,1), (4,1))\n",
        "G.add_edge((3,3), (4,4))\n",
        "G.add_edge((3,5), (4,4))"
      ],
      "execution_count": null,
      "outputs": []
    },
    {
      "cell_type": "markdown",
      "metadata": {
        "id": "K9MKIf9-UGGA"
      },
      "source": [
        "これでグラフGには{(1,1), (2,1)}, {(2,1), (3,1)}, {(3,1), (4,1)}, {(3,3), (4,4)}, {(3,5), (4,4)}の5つのエッジが加えられた．\n",
        "念の為に確認する．"
      ]
    },
    {
      "cell_type": "code",
      "metadata": {
        "colab": {
          "base_uri": "https://localhost:8080/"
        },
        "id": "vVZJQAAmUFj3",
        "outputId": "be0a705a-fd77-4d98-b400-1d3fecb9032f"
      },
      "source": [
        "G.edges() # メソッドedges()でグラフのエッジ集合が得られる．"
      ],
      "execution_count": null,
      "outputs": [
        {
          "output_type": "execute_result",
          "data": {
            "text/plain": [
              "EdgeView([((1, 1), (2, 1)), ((2, 1), (3, 1)), ((3, 1), (4, 1)), ((3, 3), (4, 4)), ((3, 5), (4, 4))])"
            ]
          },
          "metadata": {
            "tags": []
          },
          "execution_count": 11
        }
      ]
    },
    {
      "cell_type": "markdown",
      "metadata": {
        "id": "igiFwsJCU90Q"
      },
      "source": [
        "これで地図をグラフにしたものが得られた．\n",
        "\n",
        "さて，次はグラフの連結成分数を求めたいのだが……，実はNetworkXにはグラフの連結成分数を返す関数[number_connected_components](https://networkx.org/documentation/stable/reference/algorithms/generated/networkx.algorithms.components.number_connected_components.html#networkx.algorithms.components.number_connected_components)がある！\n",
        "よってそれを使うだけで良い．"
      ]
    },
    {
      "cell_type": "code",
      "metadata": {
        "colab": {
          "base_uri": "https://localhost:8080/"
        },
        "id": "MsMUC3KfU0sW",
        "outputId": "61a0681b-35c7-4b1f-9184-9b773e5a2c66"
      },
      "source": [
        "nx.number_connected_components(G)"
      ],
      "execution_count": null,
      "outputs": [
        {
          "output_type": "execute_result",
          "data": {
            "text/plain": [
              "3"
            ]
          },
          "metadata": {
            "tags": []
          },
          "execution_count": 6
        }
      ]
    },
    {
      "cell_type": "markdown",
      "metadata": {
        "id": "IA-SFpn7WGTi"
      },
      "source": [
        "NetworkXには有名なグラフアルゴリズムの実装が用意されているので，そのままで解ける問題も多い．\n",
        "\n",
        "では，改めて，問題の入力データをファイルから読み込んで，ファイルに出力する関数answerを以下に定義する．"
      ]
    },
    {
      "cell_type": "code",
      "metadata": {
        "id": "qkFWDEa1VzP_"
      },
      "source": [
        "def answer(input_file_name, output_file_name):\n",
        "    input_file = open(input_file_name)\n",
        "    output_file = open(output_file_name, 'w')\n",
        "    while True:\n",
        "        w, h = map(int, input_file.readline().split())\n",
        "        if w == 0 and h == 0:\n",
        "            break\n",
        "        c = []\n",
        "        for i in range(h):\n",
        "            c.append(list(map(int, input_file.readline().split())))\n",
        "        G = nx.Graph()\n",
        "        for i in range(h):\n",
        "            for j in range(w):\n",
        "                if c[i][j] == 1:\n",
        "                    G.add_node((i, j))\n",
        "                if j < w - 1 and c[i][j] == 1 and c[i][j + 1] == 1:\n",
        "                    G.add_edge((i, j), (i, j + 1))\n",
        "                if i < h - 1 and c[i][j] == 1 and c[i + 1][j] == 1:\n",
        "                    G.add_edge((i, j), (i + 1, j))\n",
        "                if i < h - 1 and j > 0 and c[i][j] == 1 and c[i + 1][j - 1] == 1:\n",
        "                    G.add_edge((i, j), (i + 1, j - 1))\n",
        "                if i < h - 1 and j < w - 1 and c[i][j] == 1 and c[i + 1][j + 1] == 1:\n",
        "                    G.add_edge((i, j), (i + 1, j + 1))\n",
        "        output_file.write(f'{nx.number_connected_components(G)}\\n')\n",
        "    input_file.close()\n",
        "    output_file.close()\n",
        "    return"
      ],
      "execution_count": null,
      "outputs": []
    },
    {
      "cell_type": "markdown",
      "metadata": {
        "id": "judFIDsu6Nje"
      },
      "source": [
        "この関数を試すために，まず，Googleドライブをマウントする．"
      ]
    },
    {
      "cell_type": "code",
      "metadata": {
        "id": "1wq9XjrvZQb3",
        "colab": {
          "base_uri": "https://localhost:8080/"
        },
        "outputId": "f25a495d-2dbd-41de-8144-7420ff8e8c5f"
      },
      "source": [
        "from google.colab import drive\n",
        "drive.mount('/content/drive')"
      ],
      "execution_count": null,
      "outputs": [
        {
          "output_type": "stream",
          "text": [
            "Mounted at /content/drive\n"
          ],
          "name": "stdout"
        }
      ]
    },
    {
      "cell_type": "markdown",
      "metadata": {
        "id": "vjOVLmwxvPCU"
      },
      "source": [
        "私は自分のGoogleドライブのディレクトリ\n",
        "```\n",
        "/content/drive/MyDrive/Colab Notebooks/情報フルエンシー/0607/\n",
        "```\n",
        "に公式からダウンロードしたファイル，B1，B2，B3，B4を置いた．\n",
        "よって，以下のコードで解答の出力ファイルB1.out，B2.out，B3.out，B4.outを作る．"
      ]
    },
    {
      "cell_type": "code",
      "metadata": {
        "id": "FpZ5TznJwIhN"
      },
      "source": [
        "input_file_names = ['B1.txt', 'B2.txt', 'B3.txt', 'B4.txt']\n",
        "file_dir = '/content/drive/MyDrive/Colab Notebooks/情報フルエンシー/0607/'\n",
        "\n",
        "for input_file_name in input_file_names:\n",
        "    answer(f'{file_dir}{input_file_name}', f'{file_dir}{input_file_name}.out')"
      ],
      "execution_count": null,
      "outputs": []
    },
    {
      "cell_type": "markdown",
      "metadata": {
        "id": "iWn9pMgoxLwo"
      },
      "source": [
        "B1.out，B2.out，B3.out，B4.outのそれそれが正しいものになっているか，予め公式からダウンロードしておいた正しい出力例B1.ans，B2.ans，B3.ans，B4.ansとdiffコマンドで比較してみる．"
      ]
    },
    {
      "cell_type": "code",
      "metadata": {
        "id": "V0ozP8vQwoCc"
      },
      "source": [
        "!diff /content/drive/'My Drive'/python/acm_icpc/domestic2009/judgedata/B1.out /content/drive/'My Drive'/python/acm_icpc/domestic2009/judgedata/B1.ans\n",
        "!diff /content/drive/'My Drive'/python/acm_icpc/domestic2009/judgedata/B2.out /content/drive/'My Drive'/python/acm_icpc/domestic2009/judgedata/B2.ans\n",
        "!diff /content/drive/'My Drive'/python/acm_icpc/domestic2009/judgedata/B3.out /content/drive/'My Drive'/python/acm_icpc/domestic2009/judgedata/B3.ans\n",
        "!diff /content/drive/'My Drive'/python/acm_icpc/domestic2009/judgedata/B4.out /content/drive/'My Drive'/python/acm_icpc/domestic2009/judgedata/B4.ans"
      ],
      "execution_count": null,
      "outputs": []
    },
    {
      "cell_type": "markdown",
      "metadata": {
        "id": "a7rsB_az34ab"
      },
      "source": [
        "diffコマンドで何も表示されないということは，差分がないということなので，B1.out，B2.out，B3.out，B4.outのいずれもが正しいようだ．"
      ]
    },
    {
      "cell_type": "markdown",
      "metadata": {
        "id": "ts8d-_fXPBBw"
      },
      "source": [
        "## せっかくなのでグラフ描画してみる"
      ]
    },
    {
      "cell_type": "markdown",
      "metadata": {
        "id": "EfVj5EdmRQZd"
      },
      "source": [
        "問題を解くこととは直接関係ないが，NetworkXを使うと簡単にグラフ描画をできる．\n",
        "人間は視覚認識に優れているので，グラフ描画すれば直感的に捉えやすいし，ミスの発見の役にも立つ．\n",
        "\n",
        "NetworkXで描画するためには，別途描画用のモジュールをimportする必要がある．\n",
        "ここではmatplotlibをimportして使ってみる．\n",
        "Google colaboratoryにはMatplotlibも予めインストールされているので，importすればすぐに使える．\n",
        "なお，matplotlibはMATLABのプロット風に作られているので，MATLABに慣れている方にはとても使いやすい（と思う）．"
      ]
    },
    {
      "cell_type": "code",
      "metadata": {
        "id": "Icuzg1EESMn-"
      },
      "source": [
        "import matplotlib.pyplot as plt # matplotlibのpyplotだけを使う．"
      ],
      "execution_count": null,
      "outputs": []
    },
    {
      "cell_type": "markdown",
      "metadata": {
        "id": "YrgGYv3mTkYd"
      },
      "source": [
        "Importしたら早速使ってみる．\n",
        "\n",
        "NetworkXには[draw](https://networkx.org/documentation/stable/reference/generated/networkx.drawing.nx_pylab.draw.html#networkx.drawing.nx_pylab.draw)という関数が用意されているので，それで描画できる．\n",
        "なお，Google colaboratoryやJupyterなどの，IPython系のノートブックでプロットする場合には，コードセルの先頭に\n",
        "```py\n",
        "%matplotlib inline\n",
        "```\n",
        "と入れると，描画結果がノートブックに埋め込まれて，いい感じになる．"
      ]
    },
    {
      "cell_type": "code",
      "metadata": {
        "colab": {
          "base_uri": "https://localhost:8080/",
          "height": 319
        },
        "id": "-7pQ07DCTi5L",
        "outputId": "79687fd3-c6cd-4a56-feba-23e848817f09"
      },
      "source": [
        "%matplotlib inline\n",
        "nx.draw(G) # 最も単純に，drawという関数を使ってみる．"
      ],
      "execution_count": null,
      "outputs": [
        {
          "output_type": "display_data",
          "data": {
            "image/png": "[encoded data removed]",
            "text/plain": [
              "<Figure size 432x288 with 1 Axes>"
            ]
          },
          "metadata": {
            "tags": []
          }
        }
      ]
    },
    {
      "cell_type": "markdown",
      "metadata": {
        "id": "O97pxd1BU6I0"
      },
      "source": [
        "Drawだけだと，頂点の座標は勝手に決められてしまうし，頂点の名前も表示されないから，なんだかわからない．\n",
        "\n",
        "頂点の名前も表示したい場合には，[draw_networkx](https://networkx.org/documentation/stable/reference/generated/networkx.drawing.nx_pylab.draw_networkx.html#networkx.drawing.nx_pylab.draw_networkx)を使うのが便利である．"
      ]
    },
    {
      "cell_type": "code",
      "metadata": {
        "colab": {
          "base_uri": "https://localhost:8080/",
          "height": 248
        },
        "id": "wILMAH6hVhyb",
        "outputId": "271373aa-1908-416c-c832-e9aa9bb7b7ec"
      },
      "source": [
        "%matplotlib inline\n",
        "nx.draw_networkx(G) # 今度は，draw_networkxという関数を使ってみる．"
      ],
      "execution_count": null,
      "outputs": [
        {
          "output_type": "display_data",
          "data": {
            "image/png": "[encoded data removed]",
            "text/plain": [
              "<Figure size 432x288 with 1 Axes>"
            ]
          },
          "metadata": {
            "tags": []
          }
        }
      ]
    },
    {
      "cell_type": "markdown",
      "metadata": {
        "id": "qcTrIl7WVc9b"
      },
      "source": [
        "今度は頂点の名前も表示された．\n",
        "頂点の名前をtupleにしたので，少し見づらい．\n",
        "頂点の隣接関係は確かに正しいが，それを確認するのも大変である．\n",
        "\n",
        "問題の入力を直感的に見やすくするために，頂点の座標を指定してみる．\n",
        "Draw_networkxの第2引数に頂点の座標を与えると，その座標で描画してくれる．\n",
        "座標は，キーが頂点名，値がタプルの辞書で与える．"
      ]
    },
    {
      "cell_type": "code",
      "metadata": {
        "colab": {
          "base_uri": "https://localhost:8080/",
          "height": 248
        },
        "id": "65LE1IIlXAmH",
        "outputId": "3f290c36-ff06-4b43-e53b-07f0223b4251"
      },
      "source": [
        "%matplotlib inline\n",
        "position = {name: name for name in G.nodes()} # ここでは，座標値もそのまま頂点名にしてみた．\n",
        "nx.draw_networkx(G, position)"
      ],
      "execution_count": null,
      "outputs": [
        {
          "output_type": "display_data",
          "data": {
            "image/png": "[encoded data removed]",
            "text/plain": [
              "<Figure size 432x288 with 1 Axes>"
            ]
          },
          "metadata": {
            "tags": []
          }
        }
      ]
    },
    {
      "cell_type": "markdown",
      "metadata": {
        "id": "j7EmK41TXx5O"
      },
      "source": [
        "何だか，問題文の図B-1に似た描画となった．\n",
        "しかし，上下左右は図B-1とは異なる．\n",
        "ここでは頂点の名前がそのまま座標でもあるので，NetworkXの描画の座標系はいわゆる数学の教科書と同じ座標系であるとわかる．\n",
        "\n",
        "このグラフをもっと見やすくするために，頂点の色や大きさを変えるとか，頂点名の文字の色や大きさやフォントを変えるとか，いろいろできることはあるがここではその説明は割愛する．\n",
        "\n",
        "グラフ描画に関してはいずれまた紹介したい．"
      ]
    },
    {
      "cell_type": "markdown",
      "metadata": {
        "id": "GJp0XxzL4JfB"
      },
      "source": [
        "## NetworkXをデータ構造として使うが，number_connected_componentsは使わない解法"
      ]
    },
    {
      "cell_type": "markdown",
      "metadata": {
        "id": "gpi96sUH4YK4"
      },
      "source": [
        "NetworkXの関数number_connected_componentsを使うことで問題は解けてしまった．\n",
        "しかし，現実で直面する問題がすべてNetworkXで用意されている関数で解けるとは限らない．\n",
        "まだ誰も解き方を知らない問題を自力で解決するときのための準備として，number_connected_componentsと同等の関数を自力で作ろう．\n",
        "しかし，最初からすべて作るのは大変であるため，ここではNetworkXをデータ構造として使うことにする．\n",
        "\n",
        "この問題を解くために必要なのは，連結成分数を返す関数である．\n",
        "ここでは，\n",
        "\n",
        "1. グラフGとその頂点のうちの1つsが与えられたら，グラフGの連結成分のうち頂点sを含むものを返すグラフ探索アルゴリズムを関数graph_scanningとして定義し，\n",
        "1. そのgraph_scanningを繰り返すことでグラフの連結成分数を返す関数number_connected_componentsを自作で定義する，\n",
        "\n",
        "という2段階で作る．\n",
        "\n",
        "まず，graph_scanningを以下に定義する．\n",
        "なお，すでに探索した頂点部分集合を表す変数としてはリストや辞書を使ってもよいが，ここでは[集合](https://colab.research.google.com/drive/177_DsOZZGnwCZ-LLUMi_nL38NULsnecE?usp=sharing)を使うことにする．"
      ]
    },
    {
      "cell_type": "code",
      "metadata": {
        "id": "w6Gm_PYdx59U"
      },
      "source": [
        "def graph_scanning(G, s):\n",
        "    visited_nodes = set([s]) \n",
        "    boundary_nodes = set([s])\n",
        "    while len(boundary_nodes) > 0:\n",
        "        v = boundary_nodes.pop() # boundaryの一個を取り出すpop（リスト・集合などで使えるメソッド）\n",
        "        for w in G.neighbors(v): # ここでは，NetworkXのグラフのメソッドneighbors(v)でvの隣接頂点を得ている．\n",
        "            if w not in visited_nodes:\n",
        "                visited_nodes |= set([w]) # これはvisited_nodes = visited_nodes | set([w])と同じである．\n",
        "                boundary_nodes |= set([w]) # これはboundary_nodes = boundary_nodes | set([w])と同じである．\n",
        "    return visited_nodes"
      ],
      "execution_count": null,
      "outputs": []
    },
    {
      "cell_type": "markdown",
      "metadata": {
        "id": "2IpWoTmavWZ8"
      },
      "source": [
        "試しに，先程のグラフGで実行してみる．"
      ]
    },
    {
      "cell_type": "code",
      "metadata": {
        "colab": {
          "base_uri": "https://localhost:8080/"
        },
        "id": "c8cZHGusvVtP",
        "outputId": "742c3e3f-e062-4756-b98c-e0594b224aa4"
      },
      "source": [
        "graph_scanning(G, (1, 1))"
      ],
      "execution_count": null,
      "outputs": [
        {
          "output_type": "execute_result",
          "data": {
            "text/plain": [
              "{(1, 1), (2, 1), (3, 1), (4, 1)}"
            ]
          },
          "metadata": {
            "tags": []
          },
          "execution_count": 16
        }
      ]
    },
    {
      "cell_type": "code",
      "metadata": {
        "colab": {
          "base_uri": "https://localhost:8080/"
        },
        "id": "zhTnryoyvd7y",
        "outputId": "5849ad31-f5c3-413b-cd1d-e5efdee2c271"
      },
      "source": [
        "graph_scanning(G, (1, 3))"
      ],
      "execution_count": null,
      "outputs": [
        {
          "output_type": "execute_result",
          "data": {
            "text/plain": [
              "{(1, 3)}"
            ]
          },
          "metadata": {
            "tags": []
          },
          "execution_count": 17
        }
      ]
    },
    {
      "cell_type": "code",
      "metadata": {
        "colab": {
          "base_uri": "https://localhost:8080/"
        },
        "id": "-NwKe4irvkS5",
        "outputId": "a89d159a-022a-4390-f492-b2bad996f964"
      },
      "source": [
        "graph_scanning(G, (3, 3))"
      ],
      "execution_count": null,
      "outputs": [
        {
          "output_type": "execute_result",
          "data": {
            "text/plain": [
              "{(3, 3), (3, 5), (4, 4)}"
            ]
          },
          "metadata": {
            "tags": []
          },
          "execution_count": 18
        }
      ]
    },
    {
      "cell_type": "markdown",
      "metadata": {
        "id": "HEqQTWOcvoku"
      },
      "source": [
        "良さそうである．\n",
        "\n",
        "このgraph_scanningを利用して，与えられたグラフGの連結成分数を返す関数を以下に定義する．"
      ]
    },
    {
      "cell_type": "code",
      "metadata": {
        "id": "VyWtyyLEvnT5"
      },
      "source": [
        "def number_connected_components(G): # NetworkXに敬意を評して，同じ関数名にする．\n",
        "    scanned_nodes = set([]) # すでに吟味した頂点の集合を空集合とする．\n",
        "    # 空集合の記述にはset([])を使う．{}だと空の辞書になってしまう．\n",
        "    remaining_nodes = set(G.nodes()) # まだ吟味していない頂点の集合をGの頂点集合そのものとする．\n",
        "    num = 0 # 連結成分数の初期値を0とする．\n",
        "    while len(remaining_nodes) > 0: # まだ吟味していない頂点があるならば繰り返す．\n",
        "        v = remaining_nodes.pop() # 集合でもメソッドpopは使えるので，1つ頂点を取り出してそれをvとする．\n",
        "        num += 1 # 連結成分数を1増やす．\n",
        "        visited_nodes = set(graph_scanning(G, v)) # その頂点vを含む連結成分（の頂点集合）をvisited_nodesとして，\n",
        "        scanned_nodes |= visited_nodes # それをすでに吟味した頂点集合に加え，\n",
        "        remaining_nodes -= visited_nodes # それをまだ吟味していない頂点集合から引く（削除する）．\n",
        "    return num"
      ],
      "execution_count": null,
      "outputs": []
    },
    {
      "cell_type": "markdown",
      "metadata": {
        "id": "HmQVVRVbyWKU"
      },
      "source": [
        "では，再び，グラフGで試してみる．"
      ]
    },
    {
      "cell_type": "code",
      "metadata": {
        "colab": {
          "base_uri": "https://localhost:8080/"
        },
        "id": "ntB-2M6ExdSz",
        "outputId": "0e43c18b-e68c-4fd0-fb99-0299bdb48696"
      },
      "source": [
        "number_connected_components(G)"
      ],
      "execution_count": null,
      "outputs": [
        {
          "output_type": "execute_result",
          "data": {
            "text/plain": [
              "3"
            ]
          },
          "metadata": {
            "tags": []
          },
          "execution_count": 20
        }
      ]
    },
    {
      "cell_type": "markdown",
      "metadata": {
        "id": "ys9F1zzlyec1"
      },
      "source": [
        "良いようだ．\n",
        "\n",
        "念の為，自作のnumber_connected_componentsを利用して問題を解くコードを以下に記し，実行してみる．"
      ]
    },
    {
      "cell_type": "code",
      "metadata": {
        "id": "ASwV7hagxfjz",
        "colab": {
          "base_uri": "https://localhost:8080/",
          "height": 385
        },
        "outputId": "8834a4e4-98ff-4f8a-82cb-5f32b2e2be80"
      },
      "source": [
        "def another_answer(input_file_name, output_file_name):\n",
        "    input_file = open(input_file_name)\n",
        "    output_file = open(output_file_name, 'w')\n",
        "    while True:\n",
        "        w, h = map(int, input_file.readline().split())\n",
        "        if w == 0 and h == 0:\n",
        "            break\n",
        "        c = []\n",
        "        for i in range(h):\n",
        "            c.append(list(map(int, input_file.readline().split())))\n",
        "        G = nx.Graph()\n",
        "        for i in range(h):\n",
        "            for j in range(w): # 入れ子の仕組み（https://utokyo-ipp.github.io/3/3-2.html）\n",
        "                if c[i][j] == 1:\n",
        "                    G.add_node((i, j))\n",
        "                # グラフのエッジを追加する\n",
        "                if j < w - 1 and c[i][j] == 1 and c[i][j + 1] == 1:\n",
        "                    G.add_edge((i, j), (i, j + 1))\n",
        "                if i < h - 1 and c[i][j] == 1 and c[i + 1][j] == 1:\n",
        "                    G.add_edge((i, j), (i + 1, j))\n",
        "                if i < h - 1 and j > 0 and c[i][j] == 1 and c[i + 1][j - 1] == 1:\n",
        "                    G.add_edge((i, j), (i + 1, j - 1))\n",
        "                if i < h - 1 and j < w - 1 and c[i][j] == 1 and c[i + 1][j + 1] == 1:\n",
        "                    G.add_edge((i, j), (i + 1, j + 1))\n",
        "        output_file.write(f'{number_connected_components(G)}\\n') # ここだけが先程のanswerと異なる．\n",
        "        # nx.number_connected_componentsではなく，単なるnumber_connected_componentsになっていることに注意されたい．\n",
        "    return\n",
        "\n",
        "input_file_names = ['B1', 'B2', 'B3', 'B4']\n",
        "file_dir = '/content/drive/My Drive/python/acm_icpc/domestic2009/judgedata/'\n",
        "for input_file_name in input_file_names:\n",
        "    another_answer(f'{file_dir}{input_file_name}', f'{file_dir}{input_file_name}.out')"
      ],
      "execution_count": null,
      "outputs": [
        {
          "output_type": "error",
          "ename": "FileNotFoundError",
          "evalue": "ignored",
          "traceback": [
            "\u001b[0;31m---------------------------------------------------------------------------\u001b[0m",
            "\u001b[0;31mFileNotFoundError\u001b[0m                         Traceback (most recent call last)",
            "\u001b[0;32m<ipython-input-21-dc1d012afe0c>\u001b[0m in \u001b[0;36m<module>\u001b[0;34m()\u001b[0m\n\u001b[1;32m     30\u001b[0m \u001b[0mfile_dir\u001b[0m \u001b[0;34m=\u001b[0m \u001b[0;34m'/content/drive/My Drive/python/acm_icpc/domestic2009/judgedata/'\u001b[0m\u001b[0;34m\u001b[0m\u001b[0;34m\u001b[0m\u001b[0m\n\u001b[1;32m     31\u001b[0m \u001b[0;32mfor\u001b[0m \u001b[0minput_file_name\u001b[0m \u001b[0;32min\u001b[0m \u001b[0minput_file_names\u001b[0m\u001b[0;34m:\u001b[0m\u001b[0;34m\u001b[0m\u001b[0;34m\u001b[0m\u001b[0m\n\u001b[0;32m---> 32\u001b[0;31m     \u001b[0manother_answer\u001b[0m\u001b[0;34m(\u001b[0m\u001b[0;34mf'{file_dir}{input_file_name}'\u001b[0m\u001b[0;34m,\u001b[0m \u001b[0;34mf'{file_dir}{input_file_name}.out'\u001b[0m\u001b[0;34m)\u001b[0m\u001b[0;34m\u001b[0m\u001b[0;34m\u001b[0m\u001b[0m\n\u001b[0m",
            "\u001b[0;32m<ipython-input-21-dc1d012afe0c>\u001b[0m in \u001b[0;36manother_answer\u001b[0;34m(input_file_name, output_file_name)\u001b[0m\n\u001b[1;32m      1\u001b[0m \u001b[0;32mdef\u001b[0m \u001b[0manother_answer\u001b[0m\u001b[0;34m(\u001b[0m\u001b[0minput_file_name\u001b[0m\u001b[0;34m,\u001b[0m \u001b[0moutput_file_name\u001b[0m\u001b[0;34m)\u001b[0m\u001b[0;34m:\u001b[0m\u001b[0;34m\u001b[0m\u001b[0;34m\u001b[0m\u001b[0m\n\u001b[0;32m----> 2\u001b[0;31m     \u001b[0minput_file\u001b[0m \u001b[0;34m=\u001b[0m \u001b[0mopen\u001b[0m\u001b[0;34m(\u001b[0m\u001b[0minput_file_name\u001b[0m\u001b[0;34m)\u001b[0m\u001b[0;34m\u001b[0m\u001b[0;34m\u001b[0m\u001b[0m\n\u001b[0m\u001b[1;32m      3\u001b[0m     \u001b[0moutput_file\u001b[0m \u001b[0;34m=\u001b[0m \u001b[0mopen\u001b[0m\u001b[0;34m(\u001b[0m\u001b[0moutput_file_name\u001b[0m\u001b[0;34m,\u001b[0m \u001b[0;34m'w'\u001b[0m\u001b[0;34m)\u001b[0m\u001b[0;34m\u001b[0m\u001b[0;34m\u001b[0m\u001b[0m\n\u001b[1;32m      4\u001b[0m     \u001b[0;32mwhile\u001b[0m \u001b[0;32mTrue\u001b[0m\u001b[0;34m:\u001b[0m\u001b[0;34m\u001b[0m\u001b[0;34m\u001b[0m\u001b[0m\n\u001b[1;32m      5\u001b[0m         \u001b[0mw\u001b[0m\u001b[0;34m,\u001b[0m \u001b[0mh\u001b[0m \u001b[0;34m=\u001b[0m \u001b[0mmap\u001b[0m\u001b[0;34m(\u001b[0m\u001b[0mint\u001b[0m\u001b[0;34m,\u001b[0m \u001b[0minput_file\u001b[0m\u001b[0;34m.\u001b[0m\u001b[0mreadline\u001b[0m\u001b[0;34m(\u001b[0m\u001b[0;34m)\u001b[0m\u001b[0;34m.\u001b[0m\u001b[0msplit\u001b[0m\u001b[0;34m(\u001b[0m\u001b[0;34m)\u001b[0m\u001b[0;34m)\u001b[0m\u001b[0;34m\u001b[0m\u001b[0;34m\u001b[0m\u001b[0m\n",
            "\u001b[0;31mFileNotFoundError\u001b[0m: [Errno 2] No such file or directory: '/content/drive/My Drive/python/acm_icpc/domestic2009/judgedata/B1'"
          ]
        }
      ]
    },
    {
      "cell_type": "markdown",
      "metadata": {
        "id": "SUHq0ubqzWvo"
      },
      "source": [
        "続けて，diffコマンドで確認してみる．"
      ]
    },
    {
      "cell_type": "code",
      "metadata": {
        "id": "3uNnMuZpzLAT",
        "colab": {
          "base_uri": "https://localhost:8080/"
        },
        "outputId": "8f4de6c9-fc27-43f8-b2f6-d740924ce177"
      },
      "source": [
        "!diff /content/drive/'My Drive'/python/acm_icpc/domestic2009/judgedata/B1.out /content/drive/'My Drive'/python/acm_icpc/domestic2009/judgedata/B1.ans\n",
        "!diff /content/drive/'My Drive'/python/acm_icpc/domestic2009/judgedata/B2.out /content/drive/'My Drive'/python/acm_icpc/domestic2009/judgedata/B2.ans\n",
        "!diff /content/drive/'My Drive'/python/acm_icpc/domestic2009/judgedata/B3.out /content/drive/'My Drive'/python/acm_icpc/domestic2009/judgedata/B3.ans\n",
        "!diff /content/drive/'My Drive'/python/acm_icpc/domestic2009/judgedata/B4.out /content/drive/'My Drive'/python/acm_icpc/domestic2009/judgedata/B4.ans"
      ],
      "execution_count": null,
      "outputs": [
        {
          "output_type": "stream",
          "text": [
            "diff: /content/drive/My Drive/python/acm_icpc/domestic2009/judgedata/B1.out: No such file or directory\n",
            "diff: /content/drive/My Drive/python/acm_icpc/domestic2009/judgedata/B1.ans: No such file or directory\n",
            "diff: /content/drive/My Drive/python/acm_icpc/domestic2009/judgedata/B2.out: No such file or directory\n",
            "diff: /content/drive/My Drive/python/acm_icpc/domestic2009/judgedata/B2.ans: No such file or directory\n",
            "diff: /content/drive/My Drive/python/acm_icpc/domestic2009/judgedata/B3.out: No such file or directory\n",
            "diff: /content/drive/My Drive/python/acm_icpc/domestic2009/judgedata/B3.ans: No such file or directory\n",
            "diff: /content/drive/My Drive/python/acm_icpc/domestic2009/judgedata/B4.out: No such file or directory\n",
            "diff: /content/drive/My Drive/python/acm_icpc/domestic2009/judgedata/B4.ans: No such file or directory\n"
          ],
          "name": "stdout"
        }
      ]
    },
    {
      "cell_type": "markdown",
      "metadata": {
        "id": "Qw9l6NyKzibR"
      },
      "source": [
        "正しく実行できているようだ．"
      ]
    },
    {
      "cell_type": "markdown",
      "metadata": {
        "id": "BkiPeunNzl2F"
      },
      "source": [
        "## NetworkXを使わない解法"
      ]
    },
    {
      "cell_type": "markdown",
      "metadata": {
        "id": "WfPCkMtx6Jm1"
      },
      "source": [
        "ここまではNetworkXを使った解法を紹介してきた．\n",
        "しかし，NetworkXを使いたくない（あるいは使えない）場面もある．\n",
        "\n",
        "1. NetworkXで実装されていない機能・アルゴリズムを使いたい，\n",
        "1. NetworkXを使うことを禁止されている，\n",
        "\n",
        "などの場面である．\n",
        "\n",
        "前者は，高度な仕事や研究をする場面にありがちであろう．\n",
        "後者は，プログラミング・コンテストなどでありがちである．\n",
        "\n",
        "以降は，NetworkXを使わない解法を紹介する．\n",
        "\n",
        "まず，先程自作したnumber_connected_componentsを思い出してほしい．\n",
        "その中で使ったNetworkXの機能は「指定された頂点vの隣接頂点を得る」ことだけである．\n",
        "それだけならば，頂点名をキー，その隣接頂点を値とする辞書を作れば十分である．\n",
        "図B-1に対応するグラフであれば，以下で十分であろう．"
      ]
    },
    {
      "cell_type": "code",
      "metadata": {
        "id": "rLQCZdMnzg1U"
      },
      "source": [
        "G = {\n",
        "    (1, 1): [(2, 1)], # 頂点(1, 1)の隣接頂点は(2, 1)のみ\n",
        "    (1, 3): [], # 頂点(1, 3)には隣接頂点はない\n",
        "    (2, 1): [(1, 1), (3, 1)], # 頂点(2, 1)の隣接頂点は(1, 1)と(3, 1)\n",
        "    (3, 1): [(2, 1), (4, 1)],\n",
        "    (3, 3): [(4, 4)],\n",
        "    (3, 5): [(4, 4)],\n",
        "    (4, 1): [(3, 1)],\n",
        "    (4, 4): [(3, 3), (3, 5)], # 最後のカンマは必要ないが，保守のためには入れるほうが無難\n",
        "}"
      ],
      "execution_count": null,
      "outputs": []
    },
    {
      "cell_type": "markdown",
      "metadata": {
        "id": "mDp2mHAw8wYg"
      },
      "source": [
        "それぞれの頂点には，一般に，複数の隣接頂点がある．\n",
        "よって辞書の値として，リスト以外にも辞書や集合を使っても良い．\n",
        "しかしここではあえてリストを使った．\n",
        "理由は以下の2つである．\n",
        "\n",
        "1. リストで十分であり，辞書や集合に比べてリストのほうが単純なので計算時間も記憶領域も小さくできる（ことが期待できる）．\n",
        "1. グラフを保持するデータ構造のうち，上記は**頂点隣接リスト**とよばれるものであり，その名前からリストがふさわしい．\n",
        "\n",
        "前者は，プログラミングやアルゴリズム設計をする際の常套手段である．\n",
        "\n",
        "後者は，単純に私の好みである．\n",
        "\n",
        "では，上記の頂点隣接リスト（の辞書表現）を前提として，graph_scanningとnumber_connected_componentsを作り直してみよう．\n",
        "\n",
        "先程自作した関数と区別するため，それぞれ関数名のうしろに_dictとつけることにする．"
      ]
    },
    {
      "cell_type": "markdown",
      "metadata": {
        "id": "Hhl7X_CyYjzq"
      },
      "source": [
        "**グラフGとその頂点のうちの1つsが与えられたら，グラフGの連結成分のうち頂点sを含むものを返すグラフ探索アルゴリズムを関数graph_scanning_dictとして定義し，\n",
        "そのgraph_scanning_dictを繰り返すことでグラフの連結成分数を返す関数number_connected_components_dictを自作で定義する**"
      ]
    },
    {
      "cell_type": "code",
      "metadata": {
        "id": "1eK0O81p8suV"
      },
      "source": [
        "def graph_scanning_dict(G, s): # ここでGは頂点隣接リストの辞書表現である．\n",
        "    visited_nodes = set([s])\n",
        "    boundary_nodes = set([s]) \n",
        "    while len(boundary_nodes) > 0:\n",
        "        v = boundary_nodes.pop()\n",
        "        for w in G[v]: # graph_scanningと異なるのは，ここだけである．\n",
        "            if w not in visited_nodes:\n",
        "                visited_nodes |= set([w])\n",
        "                boundary_nodes |= set([w])\n",
        "    return visited_nodes\n",
        "\n",
        "# この関数でgraph_scanning_dictを何度も回している\n",
        "def number_connected_components_dict(G): # ここでもGは頂点隣接リストの辞書表現である．\n",
        "    # scanned_nodesとremaining_nodesで確認していない座標（node）をそれぞれ用意する\n",
        "    # はじめに空のscanned_nodesを準備する\n",
        "    scanned_nodes = set([]) \n",
        "    # そして全ての座標の情報（=Gのキー）はremaining_nodesに入れる\n",
        "    # まだ吟味していない頂点の集合をGの頂点集合そのものとする.\n",
        "    remaining_nodes = set(G.keys()) # 辞書のメソッドkeys()ですべてのキーが得られる．そしてこの場合，それがグラフの頂点集合になっている．\n",
        "    # 連結成分数の初期値を0とする\n",
        "    num = 0 \n",
        "    \n",
        "    # まだ吟味していない頂点がある限り続ける\n",
        "    while len(remaining_nodes) > 0: \n",
        "        # remaining_nodesから1つ座標を取り出す\n",
        "        v = remaining_nodes.pop() \n",
        "        # 1つ取り出したので連結成分数の初期値に+1する\n",
        "        num += 1\n",
        "        # remaining_nodesから1つ取り出した座標を\n",
        "        visited_nodes = set(graph_scanning_dict(G, v)) \n",
        "        scanned_nodes |= visited_nodes\n",
        "        remaining_nodes -= visited_nodes\n",
        "    return num"
      ],
      "execution_count": null,
      "outputs": []
    },
    {
      "cell_type": "code",
      "metadata": {
        "id": "4Mvuwo-Irrel"
      },
      "source": [
        "def graph_scanning_dict(G, s): # ここでGは頂点隣接リストの辞書表現である．\n",
        "    visited_nodes = set([s])\n",
        "    boundary_nodes = set([s]) \n",
        "    while len(boundary_nodes) > 0:\n",
        "        v = boundary_nodes.pop()\n",
        "        for w in G[v]: # graph_scanningと異なるのは，ここだけである．\n",
        "            if w not in visited_nodes:\n",
        "                visited_nodes |= set([w])\n",
        "                boundary_nodes |= set([w])\n",
        "    return visited_nodes"
      ],
      "execution_count": null,
      "outputs": []
    },
    {
      "cell_type": "markdown",
      "metadata": {
        "id": "8W7K-SRZ_xRe"
      },
      "source": [
        "では，実行してみる．"
      ]
    },
    {
      "cell_type": "code",
      "metadata": {
        "colab": {
          "base_uri": "https://localhost:8080/"
        },
        "id": "7OHdm0YE_vjL",
        "outputId": "a6eb395b-7c02-46d1-e99f-c5db02689d96"
      },
      "source": [
        "number_connected_components_dict(G)"
      ],
      "execution_count": null,
      "outputs": [
        {
          "output_type": "execute_result",
          "data": {
            "text/plain": [
              "3"
            ]
          },
          "metadata": {
            "tags": []
          },
          "execution_count": 25
        }
      ]
    },
    {
      "cell_type": "markdown",
      "metadata": {
        "id": "upii-6dl_7nG"
      },
      "source": [
        "良さそうだ．\n",
        "\n",
        "では，最後に，このnumber_connected_components_dictを利用して問題を解くコードを以下に書いてみる．\n",
        "入力データを頂点隣接リストの辞書表現に変換するようにし，さらに，プログラミング・コンテストでも使えるように標準入出力コードとして書いてみる．"
      ]
    },
    {
      "cell_type": "code",
      "metadata": {
        "colab": {
          "base_uri": "https://localhost:8080/",
          "height": 562
        },
        "id": "ODMe7T0w_2xk",
        "outputId": "0a4f304f-1c24-4c42-99f7-e409d82cfbea"
      },
      "source": [
        "while True:\n",
        "    w, h = map(int, input().split()) # 標準入力からデータを受け取る．\n",
        "    if w == 0 and h == 0:\n",
        "        break\n",
        "    c = []\n",
        "    for i in range(h):\n",
        "        c.append(list(map(int, input().split())))\n",
        "    G = {} # 空の辞書だが，これは空の頂点隣接リストというつもりである．\n",
        "    for i in range(h):\n",
        "        for j in range(w): # 入れ子的なノリ仕組みを利用（https://utokyo-ipp.github.io/3/3-2.html）\n",
        "            if c[i][j] == 1: # h列内のw行目が陸=1だった時\n",
        "                G[(i, j)] = [] # それぞれの頂点の，隣接頂点を空リストで初期化する．\n",
        "    for i in range(h):\n",
        "        for j in range(w):\n",
        "            if j < w - 1 and c[i][j] == 1 and c[i][j + 1] == 1:\n",
        "                G[(i, j)].append((i, j + 1)) # 頂点(i, j)の隣接頂点として(i, j + 1)を追加\n",
        "                G[(i, j + 1)].append((i, j)) # と同時に，頂点(i, j + 1)の隣接頂点として(i, j)を追加することを忘れない．\n",
        "            if i < h - 1 and c[i][j] == 1 and c[i + 1][j] == 1:\n",
        "                G[(i, j)].append((i + 1, j))\n",
        "                G[(i + 1, j)].append((i, j))\n",
        "            if i < h - 1 and j > 0 and c[i][j] == 1 and c[i + 1][j - 1] == 1:\n",
        "                G[(i, j)].append((i + 1, j - 1))\n",
        "                G[(i + 1, j - 1)].append((i, j))\n",
        "            if i < h - 1 and j < w - 1 and c[i][j] == 1 and c[i + 1][j + 1] == 1:\n",
        "                G[(i, j)].append((i + 1, j + 1))\n",
        "                G[(i + 1, j + 1)].append((i, j))\n",
        "    print(f'{number_connected_components_dict(G)}') # 完全自作のnumber_connected_components_dictを利用する．"
      ],
      "execution_count": null,
      "outputs": [
        {
          "output_type": "error",
          "ename": "KeyboardInterrupt",
          "evalue": "ignored",
          "traceback": [
            "\u001b[0;31m---------------------------------------------------------------------------\u001b[0m",
            "\u001b[0;31mKeyboardInterrupt\u001b[0m                         Traceback (most recent call last)",
            "\u001b[0;32m/usr/local/lib/python3.7/dist-packages/ipykernel/kernelbase.py\u001b[0m in \u001b[0;36m_input_request\u001b[0;34m(self, prompt, ident, parent, password)\u001b[0m\n\u001b[1;32m    728\u001b[0m             \u001b[0;32mtry\u001b[0m\u001b[0;34m:\u001b[0m\u001b[0;34m\u001b[0m\u001b[0;34m\u001b[0m\u001b[0m\n\u001b[0;32m--> 729\u001b[0;31m                 \u001b[0mident\u001b[0m\u001b[0;34m,\u001b[0m \u001b[0mreply\u001b[0m \u001b[0;34m=\u001b[0m \u001b[0mself\u001b[0m\u001b[0;34m.\u001b[0m\u001b[0msession\u001b[0m\u001b[0;34m.\u001b[0m\u001b[0mrecv\u001b[0m\u001b[0;34m(\u001b[0m\u001b[0mself\u001b[0m\u001b[0;34m.\u001b[0m\u001b[0mstdin_socket\u001b[0m\u001b[0;34m,\u001b[0m \u001b[0;36m0\u001b[0m\u001b[0;34m)\u001b[0m\u001b[0;34m\u001b[0m\u001b[0;34m\u001b[0m\u001b[0m\n\u001b[0m\u001b[1;32m    730\u001b[0m             \u001b[0;32mexcept\u001b[0m \u001b[0mException\u001b[0m\u001b[0;34m:\u001b[0m\u001b[0;34m\u001b[0m\u001b[0;34m\u001b[0m\u001b[0m\n",
            "\u001b[0;32m/usr/local/lib/python3.7/dist-packages/jupyter_client/session.py\u001b[0m in \u001b[0;36mrecv\u001b[0;34m(self, socket, mode, content, copy)\u001b[0m\n\u001b[1;32m    802\u001b[0m         \u001b[0;32mtry\u001b[0m\u001b[0;34m:\u001b[0m\u001b[0;34m\u001b[0m\u001b[0;34m\u001b[0m\u001b[0m\n\u001b[0;32m--> 803\u001b[0;31m             \u001b[0mmsg_list\u001b[0m \u001b[0;34m=\u001b[0m \u001b[0msocket\u001b[0m\u001b[0;34m.\u001b[0m\u001b[0mrecv_multipart\u001b[0m\u001b[0;34m(\u001b[0m\u001b[0mmode\u001b[0m\u001b[0;34m,\u001b[0m \u001b[0mcopy\u001b[0m\u001b[0;34m=\u001b[0m\u001b[0mcopy\u001b[0m\u001b[0;34m)\u001b[0m\u001b[0;34m\u001b[0m\u001b[0;34m\u001b[0m\u001b[0m\n\u001b[0m\u001b[1;32m    804\u001b[0m         \u001b[0;32mexcept\u001b[0m \u001b[0mzmq\u001b[0m\u001b[0;34m.\u001b[0m\u001b[0mZMQError\u001b[0m \u001b[0;32mas\u001b[0m \u001b[0me\u001b[0m\u001b[0;34m:\u001b[0m\u001b[0;34m\u001b[0m\u001b[0;34m\u001b[0m\u001b[0m\n",
            "\u001b[0;32m/usr/local/lib/python3.7/dist-packages/zmq/sugar/socket.py\u001b[0m in \u001b[0;36mrecv_multipart\u001b[0;34m(self, flags, copy, track)\u001b[0m\n\u001b[1;32m    582\u001b[0m         \"\"\"\n\u001b[0;32m--> 583\u001b[0;31m         \u001b[0mparts\u001b[0m \u001b[0;34m=\u001b[0m \u001b[0;34m[\u001b[0m\u001b[0mself\u001b[0m\u001b[0;34m.\u001b[0m\u001b[0mrecv\u001b[0m\u001b[0;34m(\u001b[0m\u001b[0mflags\u001b[0m\u001b[0;34m,\u001b[0m \u001b[0mcopy\u001b[0m\u001b[0;34m=\u001b[0m\u001b[0mcopy\u001b[0m\u001b[0;34m,\u001b[0m \u001b[0mtrack\u001b[0m\u001b[0;34m=\u001b[0m\u001b[0mtrack\u001b[0m\u001b[0;34m)\u001b[0m\u001b[0;34m]\u001b[0m\u001b[0;34m\u001b[0m\u001b[0;34m\u001b[0m\u001b[0m\n\u001b[0m\u001b[1;32m    584\u001b[0m         \u001b[0;31m# have first part already, only loop while more to receive\u001b[0m\u001b[0;34m\u001b[0m\u001b[0;34m\u001b[0m\u001b[0;34m\u001b[0m\u001b[0m\n",
            "\u001b[0;32mzmq/backend/cython/socket.pyx\u001b[0m in \u001b[0;36mzmq.backend.cython.socket.Socket.recv\u001b[0;34m()\u001b[0m\n",
            "\u001b[0;32mzmq/backend/cython/socket.pyx\u001b[0m in \u001b[0;36mzmq.backend.cython.socket.Socket.recv\u001b[0;34m()\u001b[0m\n",
            "\u001b[0;32mzmq/backend/cython/socket.pyx\u001b[0m in \u001b[0;36mzmq.backend.cython.socket._recv_copy\u001b[0;34m()\u001b[0m\n",
            "\u001b[0;32m/usr/local/lib/python3.7/dist-packages/zmq/backend/cython/checkrc.pxd\u001b[0m in \u001b[0;36mzmq.backend.cython.checkrc._check_rc\u001b[0;34m()\u001b[0m\n",
            "\u001b[0;31mKeyboardInterrupt\u001b[0m: ",
            "\nDuring handling of the above exception, another exception occurred:\n",
            "\u001b[0;31mKeyboardInterrupt\u001b[0m                         Traceback (most recent call last)",
            "\u001b[0;32m<ipython-input-26-4e22608e1692>\u001b[0m in \u001b[0;36m<module>\u001b[0;34m()\u001b[0m\n\u001b[1;32m      1\u001b[0m \u001b[0;32mwhile\u001b[0m \u001b[0;32mTrue\u001b[0m\u001b[0;34m:\u001b[0m\u001b[0;34m\u001b[0m\u001b[0;34m\u001b[0m\u001b[0m\n\u001b[0;32m----> 2\u001b[0;31m     \u001b[0mw\u001b[0m\u001b[0;34m,\u001b[0m \u001b[0mh\u001b[0m \u001b[0;34m=\u001b[0m \u001b[0mmap\u001b[0m\u001b[0;34m(\u001b[0m\u001b[0mint\u001b[0m\u001b[0;34m,\u001b[0m \u001b[0minput\u001b[0m\u001b[0;34m(\u001b[0m\u001b[0;34m)\u001b[0m\u001b[0;34m.\u001b[0m\u001b[0msplit\u001b[0m\u001b[0;34m(\u001b[0m\u001b[0;34m)\u001b[0m\u001b[0;34m)\u001b[0m \u001b[0;31m# 標準入力からデータを受け取る．\u001b[0m\u001b[0;34m\u001b[0m\u001b[0;34m\u001b[0m\u001b[0m\n\u001b[0m\u001b[1;32m      3\u001b[0m     \u001b[0;32mif\u001b[0m \u001b[0mw\u001b[0m \u001b[0;34m==\u001b[0m \u001b[0;36m0\u001b[0m \u001b[0;32mand\u001b[0m \u001b[0mh\u001b[0m \u001b[0;34m==\u001b[0m \u001b[0;36m0\u001b[0m\u001b[0;34m:\u001b[0m\u001b[0;34m\u001b[0m\u001b[0;34m\u001b[0m\u001b[0m\n\u001b[1;32m      4\u001b[0m         \u001b[0;32mbreak\u001b[0m\u001b[0;34m\u001b[0m\u001b[0;34m\u001b[0m\u001b[0m\n\u001b[1;32m      5\u001b[0m     \u001b[0mc\u001b[0m \u001b[0;34m=\u001b[0m \u001b[0;34m[\u001b[0m\u001b[0;34m]\u001b[0m\u001b[0;34m\u001b[0m\u001b[0;34m\u001b[0m\u001b[0m\n",
            "\u001b[0;32m/usr/local/lib/python3.7/dist-packages/ipykernel/kernelbase.py\u001b[0m in \u001b[0;36mraw_input\u001b[0;34m(self, prompt)\u001b[0m\n\u001b[1;32m    702\u001b[0m             \u001b[0mself\u001b[0m\u001b[0;34m.\u001b[0m\u001b[0m_parent_ident\u001b[0m\u001b[0;34m,\u001b[0m\u001b[0;34m\u001b[0m\u001b[0;34m\u001b[0m\u001b[0m\n\u001b[1;32m    703\u001b[0m             \u001b[0mself\u001b[0m\u001b[0;34m.\u001b[0m\u001b[0m_parent_header\u001b[0m\u001b[0;34m,\u001b[0m\u001b[0;34m\u001b[0m\u001b[0;34m\u001b[0m\u001b[0m\n\u001b[0;32m--> 704\u001b[0;31m             \u001b[0mpassword\u001b[0m\u001b[0;34m=\u001b[0m\u001b[0;32mFalse\u001b[0m\u001b[0;34m,\u001b[0m\u001b[0;34m\u001b[0m\u001b[0;34m\u001b[0m\u001b[0m\n\u001b[0m\u001b[1;32m    705\u001b[0m         )\n\u001b[1;32m    706\u001b[0m \u001b[0;34m\u001b[0m\u001b[0m\n",
            "\u001b[0;32m/usr/local/lib/python3.7/dist-packages/ipykernel/kernelbase.py\u001b[0m in \u001b[0;36m_input_request\u001b[0;34m(self, prompt, ident, parent, password)\u001b[0m\n\u001b[1;32m    732\u001b[0m             \u001b[0;32mexcept\u001b[0m \u001b[0mKeyboardInterrupt\u001b[0m\u001b[0;34m:\u001b[0m\u001b[0;34m\u001b[0m\u001b[0;34m\u001b[0m\u001b[0m\n\u001b[1;32m    733\u001b[0m                 \u001b[0;31m# re-raise KeyboardInterrupt, to truncate traceback\u001b[0m\u001b[0;34m\u001b[0m\u001b[0;34m\u001b[0m\u001b[0;34m\u001b[0m\u001b[0m\n\u001b[0;32m--> 734\u001b[0;31m                 \u001b[0;32mraise\u001b[0m \u001b[0mKeyboardInterrupt\u001b[0m\u001b[0;34m\u001b[0m\u001b[0;34m\u001b[0m\u001b[0m\n\u001b[0m\u001b[1;32m    735\u001b[0m             \u001b[0;32melse\u001b[0m\u001b[0;34m:\u001b[0m\u001b[0;34m\u001b[0m\u001b[0;34m\u001b[0m\u001b[0m\n\u001b[1;32m    736\u001b[0m                 \u001b[0;32mbreak\u001b[0m\u001b[0;34m\u001b[0m\u001b[0;34m\u001b[0m\u001b[0m\n",
            "\u001b[0;31mKeyboardInterrupt\u001b[0m: "
          ]
        }
      ]
    },
    {
      "cell_type": "markdown",
      "metadata": {
        "id": "EnveGpGRCfQr"
      },
      "source": [
        "問題文の入出力例を試した限りでは良いようだ．\n",
        "\n",
        "あとはオンラインジャッジで試してみよう．\n",
        "[AOJ](http://judge.u-aizu.ac.jp/onlinejudge/index.jsp?lang=j)ならばVolume 11の1160番である．"
      ]
    }
  ]
}